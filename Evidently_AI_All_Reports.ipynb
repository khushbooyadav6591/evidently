{
 "cells": [
  {
   "cell_type": "code",
   "execution_count": 4,
   "metadata": {},
   "outputs": [],
   "source": [
    "from sklearn import datasets\n",
    "import pandas as pd\n",
    "\n",
    "from evidently.pipeline.column_mapping import ColumnMapping\n",
    "from evidently.model_profile import Profile\n",
    "from evidently.model_profile.sections import (\n",
    "    ClassificationPerformanceProfileSection ,\n",
    "    ProbClassificationPerformanceProfileSection\n",
    "    )\n",
    "from sklearn import datasets, model_selection, linear_model, neighbors\n",
    "from sklearn.neighbors import KNeighborsClassifier\n",
    "\n",
    "from evidently.dashboard import Dashboard\n",
    "from evidently.dashboard.tabs import (\n",
    "    DataDriftTab,\n",
    "    CatTargetDriftTab,\n",
    "    DataQualityTab,\n",
    "    ProbClassificationPerformanceTab,\n",
    "    ClassificationPerformanceTab\n",
    ")\n",
    "\n"
   ]
  },
  {
   "cell_type": "code",
   "execution_count": 5,
   "metadata": {},
   "outputs": [],
   "source": [
    "import warnings\n",
    "warnings.filterwarnings('ignore')\n",
    "warnings.simplefilter('ignore')"
   ]
  },
  {
   "attachments": {},
   "cell_type": "markdown",
   "metadata": {},
   "source": [
    "## **Iris Data**\n",
    "\n",
    "\n",
    "Machine Learning multivariate Public dataset.Total 150 records with 5 attributes.\n",
    "\n",
    "\n",
    "**Attributes:** Petal Length ,Petal Width ,Sepal Length , Sepal Width ,Class.\n",
    "\n",
    "\n",
    "**Target Variable :** \"Class\" - It has 3 classification of 50 records for each , Iris Setosa,Iris Virginia ,Iris Versicolor"
   ]
  },
  {
   "cell_type": "code",
   "execution_count": 26,
   "metadata": {},
   "outputs": [],
   "source": [
    "iris = datasets.load_iris()\n",
    "iris_frame = pd.DataFrame(iris.data, columns = iris.feature_names)\n",
    "iris_frame['target'] = iris.target\n",
    "train_data, test_data = model_selection.train_test_split(iris_frame, random_state=0)\n",
    "target = 'target'\n",
    "prediction = 'prediction'\n",
    "\n",
    "numerical_features = iris.feature_names\n",
    "categorical_features = []\n",
    "\n",
    "features = numerical_features + categorical_features\n"
   ]
  },
  {
   "cell_type": "code",
   "execution_count": 27,
   "metadata": {},
   "outputs": [
    {
     "data": {
      "text/plain": [
       "array(['setosa', 'versicolor', 'virginica'], dtype='<U10')"
      ]
     },
     "execution_count": 27,
     "metadata": {},
     "output_type": "execute_result"
    }
   ],
   "source": [
    "iris.target_names\n",
    "\n"
   ]
  },
  {
   "cell_type": "code",
   "execution_count": 8,
   "metadata": {},
   "outputs": [
    {
     "data": {
      "text/html": [
       "<div>\n",
       "<style scoped>\n",
       "    .dataframe tbody tr th:only-of-type {\n",
       "        vertical-align: middle;\n",
       "    }\n",
       "\n",
       "    .dataframe tbody tr th {\n",
       "        vertical-align: top;\n",
       "    }\n",
       "\n",
       "    .dataframe thead th {\n",
       "        text-align: right;\n",
       "    }\n",
       "</style>\n",
       "<table border=\"1\" class=\"dataframe\">\n",
       "  <thead>\n",
       "    <tr style=\"text-align: right;\">\n",
       "      <th></th>\n",
       "      <th>sepal length (cm)</th>\n",
       "      <th>sepal width (cm)</th>\n",
       "      <th>petal length (cm)</th>\n",
       "      <th>petal width (cm)</th>\n",
       "      <th>target</th>\n",
       "    </tr>\n",
       "  </thead>\n",
       "  <tbody>\n",
       "    <tr>\n",
       "      <th>0</th>\n",
       "      <td>5.1</td>\n",
       "      <td>3.5</td>\n",
       "      <td>1.4</td>\n",
       "      <td>0.2</td>\n",
       "      <td>0</td>\n",
       "    </tr>\n",
       "    <tr>\n",
       "      <th>1</th>\n",
       "      <td>4.9</td>\n",
       "      <td>3.0</td>\n",
       "      <td>1.4</td>\n",
       "      <td>0.2</td>\n",
       "      <td>0</td>\n",
       "    </tr>\n",
       "    <tr>\n",
       "      <th>2</th>\n",
       "      <td>4.7</td>\n",
       "      <td>3.2</td>\n",
       "      <td>1.3</td>\n",
       "      <td>0.2</td>\n",
       "      <td>0</td>\n",
       "    </tr>\n",
       "    <tr>\n",
       "      <th>3</th>\n",
       "      <td>4.6</td>\n",
       "      <td>3.1</td>\n",
       "      <td>1.5</td>\n",
       "      <td>0.2</td>\n",
       "      <td>0</td>\n",
       "    </tr>\n",
       "    <tr>\n",
       "      <th>4</th>\n",
       "      <td>5.0</td>\n",
       "      <td>3.6</td>\n",
       "      <td>1.4</td>\n",
       "      <td>0.2</td>\n",
       "      <td>0</td>\n",
       "    </tr>\n",
       "  </tbody>\n",
       "</table>\n",
       "</div>"
      ],
      "text/plain": [
       "   sepal length (cm)  sepal width (cm)  petal length (cm)  petal width (cm)  \\\n",
       "0                5.1               3.5                1.4               0.2   \n",
       "1                4.9               3.0                1.4               0.2   \n",
       "2                4.7               3.2                1.3               0.2   \n",
       "3                4.6               3.1                1.5               0.2   \n",
       "4                5.0               3.6                1.4               0.2   \n",
       "\n",
       "   target  \n",
       "0       0  \n",
       "1       0  \n",
       "2       0  \n",
       "3       0  \n",
       "4       0  "
      ]
     },
     "execution_count": 8,
     "metadata": {},
     "output_type": "execute_result"
    }
   ],
   "source": [
    "iris_frame.head()"
   ]
  },
  {
   "attachments": {},
   "cell_type": "markdown",
   "metadata": {},
   "source": [
    "### **Data Quality And Data Drift Reports**"
   ]
  },
  {
   "cell_type": "code",
   "execution_count": 4,
   "metadata": {},
   "outputs": [],
   "source": [
    "iris = datasets.load_iris(as_frame=True)\n",
    "iris_frame, iris_frame[\"target\"] = iris.data, iris.target\n",
    "\n",
    "iris_data_drift_report = Dashboard(tabs=[DataDriftTab()])\n",
    "iris_data_drift_report.calculate(iris_frame[:100], iris_frame[100:], column_mapping = None)\n",
    "iris_data_drift_report.save(\"C:/Users/k.yadav/Downloads/newminiconda_vs/Evidently_AI/DataDrift.html\")\n",
    "\n",
    "dashboard_quality = Dashboard(tabs=[DataQualityTab()])\n",
    "dashboard_quality.calculate(iris_frame[:100], iris_frame[100:], column_mapping= None)\n",
    "dashboard_quality.save(\"C:/Users/k.yadav/Downloads/newminiconda_vs/Evidently_AI/DataQuality.html\")"
   ]
  },
  {
   "attachments": {},
   "cell_type": "markdown",
   "metadata": {},
   "source": [
    "### **Target Drift Reports**"
   ]
  },
  {
   "cell_type": "code",
   "execution_count": 5,
   "metadata": {},
   "outputs": [],
   "source": [
    "iris_data_and_target_drift_report = Dashboard(tabs=[CatTargetDriftTab()])\n",
    "iris_data_and_target_drift_report.calculate(iris_frame[:100], iris_frame[100:], column_mapping = None)\n",
    "iris_data_and_target_drift_report.save(\"C:/Users/k.yadav/Downloads/newminiconda_vs/Evidently_AI/TargetDrift.html\")"
   ]
  },
  {
   "attachments": {},
   "cell_type": "markdown",
   "metadata": {},
   "source": [
    "### **Model Performance Dashboard**"
   ]
  },
  {
   "cell_type": "code",
   "execution_count": 8,
   "metadata": {},
   "outputs": [],
   "source": [
    "## Training Model\n",
    "\n",
    "model = neighbors.KNeighborsClassifier(n_neighbors=1) # can change the value to view the results\n",
    "model.fit(train_data[features], train_data.target)\n",
    "KNeighborsClassifier(n_neighbors=1)\n",
    "train_predictions = model.predict(train_data[features])\n",
    "test_predictions = model.predict(test_data[features])\n",
    "train_data['prediction'] = train_predictions\n",
    "test_data['prediction'] = test_predictions\n",
    "\n",
    "iris_column_mapping = ColumnMapping() ## remove\n",
    "\n",
    "iris_column_mapping.target = target ##remove\n",
    "iris_column_mapping.prediction = prediction ## remove\n",
    "iris_column_mapping.numerical_features = numerical_features \n",
    "\n"
   ]
  },
  {
   "cell_type": "code",
   "execution_count": 9,
   "metadata": {},
   "outputs": [],
   "source": [
    "\n",
    "## Model Performance Dashboard full (verbose_level=1)\n",
    "iris_model_performance_dashboard = Dashboard(tabs=[ClassificationPerformanceTab(verbose_level=1)])\n",
    "iris_model_performance_dashboard.calculate(train_data, test_data, column_mapping = iris_column_mapping)\n",
    "iris_model_performance_dashboard.save(\"C:/Users/k.yadav/Downloads/newminiconda_vs/Evidently_AI/classificationPerformance_level1.html\")\n",
    "\n",
    "## Model Performance Dashboard short (verbose_level=0)\n",
    "iris_model_performance_dashboard = Dashboard(tabs=[ClassificationPerformanceTab(verbose_level=0)])\n",
    "iris_model_performance_dashboard.calculate(train_data, test_data, column_mapping = iris_column_mapping)\n",
    "iris_model_performance_dashboard.save(\"C:/Users/k.yadav/Downloads/newminiconda_vs/Evidently_AI/classificationPerformance_level0.html\")"
   ]
  },
  {
   "cell_type": "code",
   "execution_count": 10,
   "metadata": {},
   "outputs": [
    {
     "data": {
      "text/plain": [
       "'{\"classification_performance\": {\"name\": \"classification_performance\", \"datetime\": \"2022-07-21 16:10:00.489513\", \"data\": {\"utility_columns\": {\"date\": null, \"id\": null, \"target\": \"target\", \"prediction\": \"prediction\"}, \"cat_feature_names\": [], \"num_feature_names\": [\"petal length (cm)\", \"petal width (cm)\", \"sepal length (cm)\", \"sepal width (cm)\"], \"datetime_feature_names\": [], \"target_names\": null, \"metrics\": {\"reference\": {\"accuracy\": 1.0, \"precision\": 1.0, \"recall\": 1.0, \"f1\": 1.0, \"metrics_matrix\": {\"0\": {\"precision\": 1.0, \"recall\": 1.0, \"f1-score\": 1.0, \"support\": 37}, \"1\": {\"precision\": 1.0, \"recall\": 1.0, \"f1-score\": 1.0, \"support\": 34}, \"2\": {\"precision\": 1.0, \"recall\": 1.0, \"f1-score\": 1.0, \"support\": 41}, \"accuracy\": 1.0, \"macro avg\": {\"precision\": 1.0, \"recall\": 1.0, \"f1-score\": 1.0, \"support\": 112}, \"weighted avg\": {\"precision\": 1.0, \"recall\": 1.0, \"f1-score\": 1.0, \"support\": 112}}, \"confusion_matrix\": {\"labels\": [0, 1, 2], \"values\": [[37, 0, 0], [0, 34, 0], [0, 0, 41]]}}, \"current\": {\"accuracy\": 0.9736842105263158, \"precision\": 0.9666666666666667, \"recall\": 0.9791666666666666, \"f1\": 0.9717034521788342, \"metrics_matrix\": {\"0\": {\"precision\": 1.0, \"recall\": 1.0, \"f1-score\": 1.0, \"support\": 13}, \"1\": {\"precision\": 1.0, \"recall\": 0.9375, \"f1-score\": 0.967741935483871, \"support\": 16}, \"2\": {\"precision\": 0.9, \"recall\": 1.0, \"f1-score\": 0.9473684210526316, \"support\": 9}, \"accuracy\": 0.9736842105263158, \"macro avg\": {\"precision\": 0.9666666666666667, \"recall\": 0.9791666666666666, \"f1-score\": 0.9717034521788342, \"support\": 38}, \"weighted avg\": {\"precision\": 0.9763157894736842, \"recall\": 0.9736842105263158, \"f1-score\": 0.9739522830846216, \"support\": 38}}, \"confusion_matrix\": {\"labels\": [0, 1, 2], \"values\": [[13, 0, 0], [0, 15, 1], [0, 0, 9]]}}}}}, \"timestamp\": \"2022-07-21 16:10:00.489513\"}'"
      ]
     },
     "execution_count": 10,
     "metadata": {},
     "output_type": "execute_result"
    }
   ],
   "source": [
    "\n",
    "#Model Performance Profile\n",
    "iris_classification_performance_profile = Profile(sections=[ClassificationPerformanceProfileSection()])\n",
    "iris_classification_performance_profile.calculate(train_data, test_data, column_mapping = iris_column_mapping)\n",
    "iris_classification_performance_profile.json() "
   ]
  },
  {
   "attachments": {},
   "cell_type": "markdown",
   "metadata": {},
   "source": [
    "### **Probabilistic Model Performance Dashboard**"
   ]
  },
  {
   "cell_type": "code",
   "execution_count": 11,
   "metadata": {},
   "outputs": [],
   "source": [
    "### Probabilistic Model Performance Dashboard\n",
    "\n",
    "model = linear_model.LogisticRegression()\n",
    "model.fit(train_data[features], train_data.target)\n",
    "\n",
    "\n",
    "# make a data frame with predictions for each class\n",
    "\n",
    "train_probas = pd.DataFrame(model.predict_proba(train_data[features]))\n",
    "train_probas.columns = iris.target_names\n",
    "test_probas = pd.DataFrame(model.predict_proba(test_data[features]))\n",
    "test_probas.columns = iris.target_names\n",
    "\n",
    "train_probas.head()\n",
    "\n",
    "# get labels for target: [0, 1, 0, 2] -> ['setosa', 'versicolor', 'setosa', 'virginica']\n",
    "\n",
    "train_data['target'] = [iris.target_names[x] for x in train_data['target']]\n",
    "test_data['target'] = [iris.target_names[x] for x in test_data['target']]\n",
    "\n",
    "\n",
    "\n"
   ]
  },
  {
   "cell_type": "code",
   "execution_count": 12,
   "metadata": {},
   "outputs": [],
   "source": [
    "\n",
    "# merge train and test data with predictions\n",
    "\n",
    "train_data.reset_index(inplace=True, drop=True)\n",
    "test_data.reset_index(inplace=True, drop=True)\n",
    "\n",
    "merged_train_data = pd.concat([train_data, train_probas], axis=1)\n",
    "merged_test_data = pd.concat([test_data, test_probas], axis=1)\n",
    "\n",
    "merged_train_data.head()\n",
    "\n",
    "iris_column_mapping = ColumnMapping()\n",
    "\n",
    "iris_column_mapping.target = 'target'\n",
    "iris_column_mapping.prediction = iris.target_names.tolist()\n",
    "iris_column_mapping.numerical_features = iris.feature_names\n",
    "\n"
   ]
  },
  {
   "cell_type": "code",
   "execution_count": 13,
   "metadata": {},
   "outputs": [],
   "source": [
    "#Probabilistic Model Performance Dashboard full (verbose_level=1)\n",
    "iris_prob_classification_dashboard = Dashboard(tabs=[ProbClassificationPerformanceTab(verbose_level=1)])\n",
    "iris_prob_classification_dashboard.calculate(merged_train_data, merged_test_data, \n",
    "                                             column_mapping = iris_column_mapping)\n",
    "#iris_prob_classification_dashboard.show()\n",
    "\n",
    "iris_prob_classification_dashboard.save(\"C:/Users/k.yadav/Downloads/newminiconda_vs/Evidently_AI/Probability_classificationPerformance_level1.html\")\n",
    "\n",
    "\n"
   ]
  },
  {
   "cell_type": "code",
   "execution_count": 14,
   "metadata": {},
   "outputs": [
    {
     "data": {
      "text/html": [
       "\n",
       "<link rel=\"stylesheet\" href=\"https://fonts.googleapis.com/icon?family=Material+Icons\"/>\n",
       "<style>\n",
       ".reset-this-parent {\n",
       "  all: initial;\n",
       "}\n",
       ".reset-this-parent h5 {\n",
       "  all: initial;\n",
       "  font: initial;\n",
       "}\n",
       "\n",
       "svg {\n",
       "  height: intrinsic !important;\n",
       "}\n",
       "</style>\n",
       "<script>\n",
       "    var evidently_dashboard_68686bde6e7b4ca2a2695643087677fb = {\"name\": \"evidently_dashboard_68686bde6e7b4ca2a2695643087677fb\", \"widgets\": [{\"type\": \"counter\", \"title\": \"\", \"size\": 2, \"id\": \"\", \"details\": \"\", \"alertsPosition\": null, \"alertStats\": null, \"params\": {\"counters\": [{\"value\": \"\", \"label\": \"Probabilistic Classification Model Performance Report. Target: 'target'\"}]}, \"insights\": [], \"alerts\": [], \"tabs\": [], \"widgets\": [], \"pageSize\": 5}, {\"type\": \"counter\", \"title\": \"Reference: Model Quality With Macro-average Metrics\", \"size\": 2, \"id\": \"\", \"details\": \"\", \"alertsPosition\": null, \"alertStats\": null, \"params\": {\"counters\": [{\"value\": \"0.982\", \"label\": \"Accuracy\"}, {\"value\": \"0.984\", \"label\": \"Precision\"}, {\"value\": \"0.98\", \"label\": \"Recall\"}, {\"value\": \"0.982\", \"label\": \"F1\"}, {\"value\": \"0.999\", \"label\": \"ROC AUC\"}, {\"value\": \"0.125\", \"label\": \"LogLoss\"}]}, \"insights\": [], \"alerts\": [], \"tabs\": [], \"widgets\": [], \"pageSize\": 5}, {\"type\": \"counter\", \"title\": \"Current: Model Quality With Macro-average Metrics\", \"size\": 2, \"id\": \"\", \"details\": \"\", \"alertsPosition\": null, \"alertStats\": null, \"params\": {\"counters\": [{\"value\": \"0.974\", \"label\": \"Accuracy\"}, {\"value\": \"0.967\", \"label\": \"Precision\"}, {\"value\": \"0.979\", \"label\": \"Recall\"}, {\"value\": \"0.972\", \"label\": \"F1\"}, {\"value\": \"0.996\", \"label\": \"ROC AUC\"}, {\"value\": \"0.172\", \"label\": \"LogLoss\"}]}, \"insights\": [], \"alerts\": [], \"tabs\": [], \"widgets\": [], \"pageSize\": 5}, {\"type\": \"big_graph\", \"title\": \"Reference: Class Representation\", \"size\": 1, \"id\": \"\", \"details\": \"\", \"alertsPosition\": null, \"alertStats\": null, \"params\": {\"data\": [{\"marker\": {\"color\": \"#ed0400\"}, \"name\": \"Support\", \"x\": [\"setosa\", \"versicolor\", \"virginica\"], \"y\": [37.0, 34.0, 41.0], \"type\": \"bar\"}], \"layout\": {\"template\": {\"data\": {\"histogram2dcontour\": [{\"type\": \"histogram2dcontour\", \"colorbar\": {\"outlinewidth\": 0, \"ticks\": \"\"}, \"colorscale\": [[0.0, \"#0d0887\"], [0.1111111111111111, \"#46039f\"], [0.2222222222222222, \"#7201a8\"], [0.3333333333333333, \"#9c179e\"], [0.4444444444444444, \"#bd3786\"], [0.5555555555555556, \"#d8576b\"], [0.6666666666666666, \"#ed7953\"], [0.7777777777777778, \"#fb9f3a\"], [0.8888888888888888, \"#fdca26\"], [1.0, \"#f0f921\"]]}], \"choropleth\": [{\"type\": \"choropleth\", \"colorbar\": {\"outlinewidth\": 0, \"ticks\": \"\"}}], \"histogram2d\": [{\"type\": \"histogram2d\", \"colorbar\": {\"outlinewidth\": 0, \"ticks\": \"\"}, \"colorscale\": [[0.0, \"#0d0887\"], [0.1111111111111111, \"#46039f\"], [0.2222222222222222, \"#7201a8\"], [0.3333333333333333, \"#9c179e\"], [0.4444444444444444, \"#bd3786\"], [0.5555555555555556, \"#d8576b\"], [0.6666666666666666, \"#ed7953\"], [0.7777777777777778, \"#fb9f3a\"], [0.8888888888888888, \"#fdca26\"], [1.0, \"#f0f921\"]]}], \"heatmap\": [{\"type\": \"heatmap\", \"colorbar\": {\"outlinewidth\": 0, \"ticks\": \"\"}, \"colorscale\": [[0.0, \"#0d0887\"], [0.1111111111111111, \"#46039f\"], [0.2222222222222222, \"#7201a8\"], [0.3333333333333333, \"#9c179e\"], [0.4444444444444444, \"#bd3786\"], [0.5555555555555556, \"#d8576b\"], [0.6666666666666666, \"#ed7953\"], [0.7777777777777778, \"#fb9f3a\"], [0.8888888888888888, \"#fdca26\"], [1.0, \"#f0f921\"]]}], \"heatmapgl\": [{\"type\": \"heatmapgl\", \"colorbar\": {\"outlinewidth\": 0, \"ticks\": \"\"}, \"colorscale\": [[0.0, \"#0d0887\"], [0.1111111111111111, \"#46039f\"], [0.2222222222222222, \"#7201a8\"], [0.3333333333333333, \"#9c179e\"], [0.4444444444444444, \"#bd3786\"], [0.5555555555555556, \"#d8576b\"], [0.6666666666666666, \"#ed7953\"], [0.7777777777777778, \"#fb9f3a\"], [0.8888888888888888, \"#fdca26\"], [1.0, \"#f0f921\"]]}], \"contourcarpet\": [{\"type\": \"contourcarpet\", \"colorbar\": {\"outlinewidth\": 0, \"ticks\": \"\"}}], \"contour\": [{\"type\": \"contour\", \"colorbar\": {\"outlinewidth\": 0, \"ticks\": \"\"}, \"colorscale\": [[0.0, \"#0d0887\"], [0.1111111111111111, \"#46039f\"], [0.2222222222222222, \"#7201a8\"], [0.3333333333333333, \"#9c179e\"], [0.4444444444444444, \"#bd3786\"], [0.5555555555555556, \"#d8576b\"], [0.6666666666666666, \"#ed7953\"], [0.7777777777777778, \"#fb9f3a\"], [0.8888888888888888, \"#fdca26\"], [1.0, \"#f0f921\"]]}], \"surface\": [{\"type\": \"surface\", \"colorbar\": {\"outlinewidth\": 0, \"ticks\": \"\"}, \"colorscale\": [[0.0, \"#0d0887\"], [0.1111111111111111, \"#46039f\"], [0.2222222222222222, \"#7201a8\"], [0.3333333333333333, \"#9c179e\"], [0.4444444444444444, \"#bd3786\"], [0.5555555555555556, \"#d8576b\"], [0.6666666666666666, \"#ed7953\"], [0.7777777777777778, \"#fb9f3a\"], [0.8888888888888888, \"#fdca26\"], [1.0, \"#f0f921\"]]}], \"mesh3d\": [{\"type\": \"mesh3d\", \"colorbar\": {\"outlinewidth\": 0, \"ticks\": \"\"}}], \"scatter\": [{\"fillpattern\": {\"fillmode\": \"overlay\", \"size\": 10, \"solidity\": 0.2}, \"type\": \"scatter\"}], \"parcoords\": [{\"type\": \"parcoords\", \"line\": {\"colorbar\": {\"outlinewidth\": 0, \"ticks\": \"\"}}}], \"scatterpolargl\": [{\"type\": \"scatterpolargl\", \"marker\": {\"colorbar\": {\"outlinewidth\": 0, \"ticks\": \"\"}}}], \"bar\": [{\"error_x\": {\"color\": \"#2a3f5f\"}, \"error_y\": {\"color\": \"#2a3f5f\"}, \"marker\": {\"line\": {\"color\": \"#E5ECF6\", \"width\": 0.5}, \"pattern\": {\"fillmode\": \"overlay\", \"size\": 10, \"solidity\": 0.2}}, \"type\": \"bar\"}], \"scattergeo\": [{\"type\": \"scattergeo\", \"marker\": {\"colorbar\": {\"outlinewidth\": 0, \"ticks\": \"\"}}}], \"scatterpolar\": [{\"type\": \"scatterpolar\", \"marker\": {\"colorbar\": {\"outlinewidth\": 0, \"ticks\": \"\"}}}], \"histogram\": [{\"marker\": {\"pattern\": {\"fillmode\": \"overlay\", \"size\": 10, \"solidity\": 0.2}}, \"type\": \"histogram\"}], \"scattergl\": [{\"type\": \"scattergl\", \"marker\": {\"colorbar\": {\"outlinewidth\": 0, \"ticks\": \"\"}}}], \"scatter3d\": [{\"type\": \"scatter3d\", \"line\": {\"colorbar\": {\"outlinewidth\": 0, \"ticks\": \"\"}}, \"marker\": {\"colorbar\": {\"outlinewidth\": 0, \"ticks\": \"\"}}}], \"scattermapbox\": [{\"type\": \"scattermapbox\", \"marker\": {\"colorbar\": {\"outlinewidth\": 0, \"ticks\": \"\"}}}], \"scatterternary\": [{\"type\": \"scatterternary\", \"marker\": {\"colorbar\": {\"outlinewidth\": 0, \"ticks\": \"\"}}}], \"scattercarpet\": [{\"type\": \"scattercarpet\", \"marker\": {\"colorbar\": {\"outlinewidth\": 0, \"ticks\": \"\"}}}], \"carpet\": [{\"aaxis\": {\"endlinecolor\": \"#2a3f5f\", \"gridcolor\": \"white\", \"linecolor\": \"white\", \"minorgridcolor\": \"white\", \"startlinecolor\": \"#2a3f5f\"}, \"baxis\": {\"endlinecolor\": \"#2a3f5f\", \"gridcolor\": \"white\", \"linecolor\": \"white\", \"minorgridcolor\": \"white\", \"startlinecolor\": \"#2a3f5f\"}, \"type\": \"carpet\"}], \"table\": [{\"cells\": {\"fill\": {\"color\": \"#EBF0F8\"}, \"line\": {\"color\": \"white\"}}, \"header\": {\"fill\": {\"color\": \"#C8D4E3\"}, \"line\": {\"color\": \"white\"}}, \"type\": \"table\"}], \"barpolar\": [{\"marker\": {\"line\": {\"color\": \"#E5ECF6\", \"width\": 0.5}, \"pattern\": {\"fillmode\": \"overlay\", \"size\": 10, \"solidity\": 0.2}}, \"type\": \"barpolar\"}], \"pie\": [{\"automargin\": true, \"type\": \"pie\"}]}, \"layout\": {\"autotypenumbers\": \"strict\", \"colorway\": [\"#636efa\", \"#EF553B\", \"#00cc96\", \"#ab63fa\", \"#FFA15A\", \"#19d3f3\", \"#FF6692\", \"#B6E880\", \"#FF97FF\", \"#FECB52\"], \"font\": {\"color\": \"#2a3f5f\"}, \"hovermode\": \"closest\", \"hoverlabel\": {\"align\": \"left\"}, \"paper_bgcolor\": \"white\", \"plot_bgcolor\": \"#E5ECF6\", \"polar\": {\"bgcolor\": \"#E5ECF6\", \"angularaxis\": {\"gridcolor\": \"white\", \"linecolor\": \"white\", \"ticks\": \"\"}, \"radialaxis\": {\"gridcolor\": \"white\", \"linecolor\": \"white\", \"ticks\": \"\"}}, \"ternary\": {\"bgcolor\": \"#E5ECF6\", \"aaxis\": {\"gridcolor\": \"white\", \"linecolor\": \"white\", \"ticks\": \"\"}, \"baxis\": {\"gridcolor\": \"white\", \"linecolor\": \"white\", \"ticks\": \"\"}, \"caxis\": {\"gridcolor\": \"white\", \"linecolor\": \"white\", \"ticks\": \"\"}}, \"coloraxis\": {\"colorbar\": {\"outlinewidth\": 0, \"ticks\": \"\"}}, \"colorscale\": {\"sequential\": [[0.0, \"#0d0887\"], [0.1111111111111111, \"#46039f\"], [0.2222222222222222, \"#7201a8\"], [0.3333333333333333, \"#9c179e\"], [0.4444444444444444, \"#bd3786\"], [0.5555555555555556, \"#d8576b\"], [0.6666666666666666, \"#ed7953\"], [0.7777777777777778, \"#fb9f3a\"], [0.8888888888888888, \"#fdca26\"], [1.0, \"#f0f921\"]], \"sequentialminus\": [[0.0, \"#0d0887\"], [0.1111111111111111, \"#46039f\"], [0.2222222222222222, \"#7201a8\"], [0.3333333333333333, \"#9c179e\"], [0.4444444444444444, \"#bd3786\"], [0.5555555555555556, \"#d8576b\"], [0.6666666666666666, \"#ed7953\"], [0.7777777777777778, \"#fb9f3a\"], [0.8888888888888888, \"#fdca26\"], [1.0, \"#f0f921\"]], \"diverging\": [[0, \"#8e0152\"], [0.1, \"#c51b7d\"], [0.2, \"#de77ae\"], [0.3, \"#f1b6da\"], [0.4, \"#fde0ef\"], [0.5, \"#f7f7f7\"], [0.6, \"#e6f5d0\"], [0.7, \"#b8e186\"], [0.8, \"#7fbc41\"], [0.9, \"#4d9221\"], [1, \"#276419\"]]}, \"xaxis\": {\"gridcolor\": \"white\", \"linecolor\": \"white\", \"ticks\": \"\", \"title\": {\"standoff\": 15}, \"zerolinecolor\": \"white\", \"automargin\": true, \"zerolinewidth\": 2}, \"yaxis\": {\"gridcolor\": \"white\", \"linecolor\": \"white\", \"ticks\": \"\", \"title\": {\"standoff\": 15}, \"zerolinecolor\": \"white\", \"automargin\": true, \"zerolinewidth\": 2}, \"scene\": {\"xaxis\": {\"backgroundcolor\": \"#E5ECF6\", \"gridcolor\": \"white\", \"linecolor\": \"white\", \"showbackground\": true, \"ticks\": \"\", \"zerolinecolor\": \"white\", \"gridwidth\": 2}, \"yaxis\": {\"backgroundcolor\": \"#E5ECF6\", \"gridcolor\": \"white\", \"linecolor\": \"white\", \"showbackground\": true, \"ticks\": \"\", \"zerolinecolor\": \"white\", \"gridwidth\": 2}, \"zaxis\": {\"backgroundcolor\": \"#E5ECF6\", \"gridcolor\": \"white\", \"linecolor\": \"white\", \"showbackground\": true, \"ticks\": \"\", \"zerolinecolor\": \"white\", \"gridwidth\": 2}}, \"shapedefaults\": {\"line\": {\"color\": \"#2a3f5f\"}}, \"annotationdefaults\": {\"arrowcolor\": \"#2a3f5f\", \"arrowhead\": 0, \"arrowwidth\": 1}, \"geo\": {\"bgcolor\": \"white\", \"landcolor\": \"#E5ECF6\", \"subunitcolor\": \"white\", \"showland\": true, \"showlakes\": true, \"lakecolor\": \"white\"}, \"title\": {\"x\": 0.05}, \"mapbox\": {\"style\": \"light\"}}}, \"xaxis\": {\"title\": {\"text\": \"Class\"}}, \"yaxis\": {\"title\": {\"text\": \"Number of Objects\"}}}}, \"insights\": [], \"alerts\": [], \"tabs\": [], \"widgets\": [], \"pageSize\": 5}, {\"type\": \"big_graph\", \"title\": \"Current: Class Representation\", \"size\": 1, \"id\": \"\", \"details\": \"\", \"alertsPosition\": null, \"alertStats\": null, \"params\": {\"data\": [{\"marker\": {\"color\": \"#ed0400\"}, \"name\": \"Support\", \"x\": [\"setosa\", \"versicolor\", \"virginica\"], \"y\": [13.0, 16.0, 9.0], \"type\": \"bar\"}], \"layout\": {\"template\": {\"data\": {\"histogram2dcontour\": [{\"type\": \"histogram2dcontour\", \"colorbar\": {\"outlinewidth\": 0, \"ticks\": \"\"}, \"colorscale\": [[0.0, \"#0d0887\"], [0.1111111111111111, \"#46039f\"], [0.2222222222222222, \"#7201a8\"], [0.3333333333333333, \"#9c179e\"], [0.4444444444444444, \"#bd3786\"], [0.5555555555555556, \"#d8576b\"], [0.6666666666666666, \"#ed7953\"], [0.7777777777777778, \"#fb9f3a\"], [0.8888888888888888, \"#fdca26\"], [1.0, \"#f0f921\"]]}], \"choropleth\": [{\"type\": \"choropleth\", \"colorbar\": {\"outlinewidth\": 0, \"ticks\": \"\"}}], \"histogram2d\": [{\"type\": \"histogram2d\", \"colorbar\": {\"outlinewidth\": 0, \"ticks\": \"\"}, \"colorscale\": [[0.0, \"#0d0887\"], [0.1111111111111111, \"#46039f\"], [0.2222222222222222, \"#7201a8\"], [0.3333333333333333, \"#9c179e\"], [0.4444444444444444, \"#bd3786\"], [0.5555555555555556, \"#d8576b\"], [0.6666666666666666, \"#ed7953\"], [0.7777777777777778, \"#fb9f3a\"], [0.8888888888888888, \"#fdca26\"], [1.0, \"#f0f921\"]]}], \"heatmap\": [{\"type\": \"heatmap\", \"colorbar\": {\"outlinewidth\": 0, \"ticks\": \"\"}, \"colorscale\": [[0.0, \"#0d0887\"], [0.1111111111111111, \"#46039f\"], [0.2222222222222222, \"#7201a8\"], [0.3333333333333333, \"#9c179e\"], [0.4444444444444444, \"#bd3786\"], [0.5555555555555556, \"#d8576b\"], [0.6666666666666666, \"#ed7953\"], [0.7777777777777778, \"#fb9f3a\"], [0.8888888888888888, \"#fdca26\"], [1.0, \"#f0f921\"]]}], \"heatmapgl\": [{\"type\": \"heatmapgl\", \"colorbar\": {\"outlinewidth\": 0, \"ticks\": \"\"}, \"colorscale\": [[0.0, \"#0d0887\"], [0.1111111111111111, \"#46039f\"], [0.2222222222222222, \"#7201a8\"], [0.3333333333333333, \"#9c179e\"], [0.4444444444444444, \"#bd3786\"], [0.5555555555555556, \"#d8576b\"], [0.6666666666666666, \"#ed7953\"], [0.7777777777777778, \"#fb9f3a\"], [0.8888888888888888, \"#fdca26\"], [1.0, \"#f0f921\"]]}], \"contourcarpet\": [{\"type\": \"contourcarpet\", \"colorbar\": {\"outlinewidth\": 0, \"ticks\": \"\"}}], \"contour\": [{\"type\": \"contour\", \"colorbar\": {\"outlinewidth\": 0, \"ticks\": \"\"}, \"colorscale\": [[0.0, \"#0d0887\"], [0.1111111111111111, \"#46039f\"], [0.2222222222222222, \"#7201a8\"], [0.3333333333333333, \"#9c179e\"], [0.4444444444444444, \"#bd3786\"], [0.5555555555555556, \"#d8576b\"], [0.6666666666666666, \"#ed7953\"], [0.7777777777777778, \"#fb9f3a\"], [0.8888888888888888, \"#fdca26\"], [1.0, \"#f0f921\"]]}], \"surface\": [{\"type\": \"surface\", \"colorbar\": {\"outlinewidth\": 0, \"ticks\": \"\"}, \"colorscale\": [[0.0, \"#0d0887\"], [0.1111111111111111, \"#46039f\"], [0.2222222222222222, \"#7201a8\"], [0.3333333333333333, \"#9c179e\"], [0.4444444444444444, \"#bd3786\"], [0.5555555555555556, \"#d8576b\"], [0.6666666666666666, \"#ed7953\"], [0.7777777777777778, \"#fb9f3a\"], [0.8888888888888888, \"#fdca26\"], [1.0, \"#f0f921\"]]}], \"mesh3d\": [{\"type\": \"mesh3d\", \"colorbar\": {\"outlinewidth\": 0, \"ticks\": \"\"}}], \"scatter\": [{\"fillpattern\": {\"fillmode\": \"overlay\", \"size\": 10, \"solidity\": 0.2}, \"type\": \"scatter\"}], \"parcoords\": [{\"type\": \"parcoords\", \"line\": {\"colorbar\": {\"outlinewidth\": 0, \"ticks\": \"\"}}}], \"scatterpolargl\": [{\"type\": \"scatterpolargl\", \"marker\": {\"colorbar\": {\"outlinewidth\": 0, \"ticks\": \"\"}}}], \"bar\": [{\"error_x\": {\"color\": \"#2a3f5f\"}, \"error_y\": {\"color\": \"#2a3f5f\"}, \"marker\": {\"line\": {\"color\": \"#E5ECF6\", \"width\": 0.5}, \"pattern\": {\"fillmode\": \"overlay\", \"size\": 10, \"solidity\": 0.2}}, \"type\": \"bar\"}], \"scattergeo\": [{\"type\": \"scattergeo\", \"marker\": {\"colorbar\": {\"outlinewidth\": 0, \"ticks\": \"\"}}}], \"scatterpolar\": [{\"type\": \"scatterpolar\", \"marker\": {\"colorbar\": {\"outlinewidth\": 0, \"ticks\": \"\"}}}], \"histogram\": [{\"marker\": {\"pattern\": {\"fillmode\": \"overlay\", \"size\": 10, \"solidity\": 0.2}}, \"type\": \"histogram\"}], \"scattergl\": [{\"type\": \"scattergl\", \"marker\": {\"colorbar\": {\"outlinewidth\": 0, \"ticks\": \"\"}}}], \"scatter3d\": [{\"type\": \"scatter3d\", \"line\": {\"colorbar\": {\"outlinewidth\": 0, \"ticks\": \"\"}}, \"marker\": {\"colorbar\": {\"outlinewidth\": 0, \"ticks\": \"\"}}}], \"scattermapbox\": [{\"type\": \"scattermapbox\", \"marker\": {\"colorbar\": {\"outlinewidth\": 0, \"ticks\": \"\"}}}], \"scatterternary\": [{\"type\": \"scatterternary\", \"marker\": {\"colorbar\": {\"outlinewidth\": 0, \"ticks\": \"\"}}}], \"scattercarpet\": [{\"type\": \"scattercarpet\", \"marker\": {\"colorbar\": {\"outlinewidth\": 0, \"ticks\": \"\"}}}], \"carpet\": [{\"aaxis\": {\"endlinecolor\": \"#2a3f5f\", \"gridcolor\": \"white\", \"linecolor\": \"white\", \"minorgridcolor\": \"white\", \"startlinecolor\": \"#2a3f5f\"}, \"baxis\": {\"endlinecolor\": \"#2a3f5f\", \"gridcolor\": \"white\", \"linecolor\": \"white\", \"minorgridcolor\": \"white\", \"startlinecolor\": \"#2a3f5f\"}, \"type\": \"carpet\"}], \"table\": [{\"cells\": {\"fill\": {\"color\": \"#EBF0F8\"}, \"line\": {\"color\": \"white\"}}, \"header\": {\"fill\": {\"color\": \"#C8D4E3\"}, \"line\": {\"color\": \"white\"}}, \"type\": \"table\"}], \"barpolar\": [{\"marker\": {\"line\": {\"color\": \"#E5ECF6\", \"width\": 0.5}, \"pattern\": {\"fillmode\": \"overlay\", \"size\": 10, \"solidity\": 0.2}}, \"type\": \"barpolar\"}], \"pie\": [{\"automargin\": true, \"type\": \"pie\"}]}, \"layout\": {\"autotypenumbers\": \"strict\", \"colorway\": [\"#636efa\", \"#EF553B\", \"#00cc96\", \"#ab63fa\", \"#FFA15A\", \"#19d3f3\", \"#FF6692\", \"#B6E880\", \"#FF97FF\", \"#FECB52\"], \"font\": {\"color\": \"#2a3f5f\"}, \"hovermode\": \"closest\", \"hoverlabel\": {\"align\": \"left\"}, \"paper_bgcolor\": \"white\", \"plot_bgcolor\": \"#E5ECF6\", \"polar\": {\"bgcolor\": \"#E5ECF6\", \"angularaxis\": {\"gridcolor\": \"white\", \"linecolor\": \"white\", \"ticks\": \"\"}, \"radialaxis\": {\"gridcolor\": \"white\", \"linecolor\": \"white\", \"ticks\": \"\"}}, \"ternary\": {\"bgcolor\": \"#E5ECF6\", \"aaxis\": {\"gridcolor\": \"white\", \"linecolor\": \"white\", \"ticks\": \"\"}, \"baxis\": {\"gridcolor\": \"white\", \"linecolor\": \"white\", \"ticks\": \"\"}, \"caxis\": {\"gridcolor\": \"white\", \"linecolor\": \"white\", \"ticks\": \"\"}}, \"coloraxis\": {\"colorbar\": {\"outlinewidth\": 0, \"ticks\": \"\"}}, \"colorscale\": {\"sequential\": [[0.0, \"#0d0887\"], [0.1111111111111111, \"#46039f\"], [0.2222222222222222, \"#7201a8\"], [0.3333333333333333, \"#9c179e\"], [0.4444444444444444, \"#bd3786\"], [0.5555555555555556, \"#d8576b\"], [0.6666666666666666, \"#ed7953\"], [0.7777777777777778, \"#fb9f3a\"], [0.8888888888888888, \"#fdca26\"], [1.0, \"#f0f921\"]], \"sequentialminus\": [[0.0, \"#0d0887\"], [0.1111111111111111, \"#46039f\"], [0.2222222222222222, \"#7201a8\"], [0.3333333333333333, \"#9c179e\"], [0.4444444444444444, \"#bd3786\"], [0.5555555555555556, \"#d8576b\"], [0.6666666666666666, \"#ed7953\"], [0.7777777777777778, \"#fb9f3a\"], [0.8888888888888888, \"#fdca26\"], [1.0, \"#f0f921\"]], \"diverging\": [[0, \"#8e0152\"], [0.1, \"#c51b7d\"], [0.2, \"#de77ae\"], [0.3, \"#f1b6da\"], [0.4, \"#fde0ef\"], [0.5, \"#f7f7f7\"], [0.6, \"#e6f5d0\"], [0.7, \"#b8e186\"], [0.8, \"#7fbc41\"], [0.9, \"#4d9221\"], [1, \"#276419\"]]}, \"xaxis\": {\"gridcolor\": \"white\", \"linecolor\": \"white\", \"ticks\": \"\", \"title\": {\"standoff\": 15}, \"zerolinecolor\": \"white\", \"automargin\": true, \"zerolinewidth\": 2}, \"yaxis\": {\"gridcolor\": \"white\", \"linecolor\": \"white\", \"ticks\": \"\", \"title\": {\"standoff\": 15}, \"zerolinecolor\": \"white\", \"automargin\": true, \"zerolinewidth\": 2}, \"scene\": {\"xaxis\": {\"backgroundcolor\": \"#E5ECF6\", \"gridcolor\": \"white\", \"linecolor\": \"white\", \"showbackground\": true, \"ticks\": \"\", \"zerolinecolor\": \"white\", \"gridwidth\": 2}, \"yaxis\": {\"backgroundcolor\": \"#E5ECF6\", \"gridcolor\": \"white\", \"linecolor\": \"white\", \"showbackground\": true, \"ticks\": \"\", \"zerolinecolor\": \"white\", \"gridwidth\": 2}, \"zaxis\": {\"backgroundcolor\": \"#E5ECF6\", \"gridcolor\": \"white\", \"linecolor\": \"white\", \"showbackground\": true, \"ticks\": \"\", \"zerolinecolor\": \"white\", \"gridwidth\": 2}}, \"shapedefaults\": {\"line\": {\"color\": \"#2a3f5f\"}}, \"annotationdefaults\": {\"arrowcolor\": \"#2a3f5f\", \"arrowhead\": 0, \"arrowwidth\": 1}, \"geo\": {\"bgcolor\": \"white\", \"landcolor\": \"#E5ECF6\", \"subunitcolor\": \"white\", \"showland\": true, \"showlakes\": true, \"lakecolor\": \"white\"}, \"title\": {\"x\": 0.05}, \"mapbox\": {\"style\": \"light\"}}}, \"xaxis\": {\"title\": {\"text\": \"Class\"}}, \"yaxis\": {\"title\": {\"text\": \"Number of Objects\"}}}}, \"insights\": [], \"alerts\": [], \"tabs\": [], \"widgets\": [], \"pageSize\": 5}, {\"type\": \"big_graph\", \"title\": \"Reference: Quality Metrics by Class\", \"size\": 1, \"id\": \"\", \"details\": \"\", \"alertsPosition\": null, \"alertStats\": null, \"params\": {\"data\": [{\"colorscale\": [[0.0, \"rgb(0,0,255)\"], [1.0, \"rgb(255,0,0)\"]], \"reversescale\": false, \"showscale\": true, \"x\": [\"setosa\", \"versicolor\", \"virginica\"], \"y\": [\"precision\", \"recall\", \"f1-score\", \"roc-auc\"], \"z\": [[1.0, 1.0, 0.9534883720930233], [1.0, 0.9411764705882353, 1.0], [1.0, 0.9696969696969697, 0.9761904761904763], [1.0, 0.9984917043740573, 0.9986259017519753]], \"type\": \"heatmap\"}], \"layout\": {\"annotations\": [{\"font\": {\"color\": \"#FFFFFF\"}, \"showarrow\": false, \"text\": \"1.0\", \"x\": \"setosa\", \"xref\": \"x\", \"y\": \"precision\", \"yref\": \"y\"}, {\"font\": {\"color\": \"#FFFFFF\"}, \"showarrow\": false, \"text\": \"1.0\", \"x\": \"versicolor\", \"xref\": \"x\", \"y\": \"precision\", \"yref\": \"y\"}, {\"font\": {\"color\": \"#FFFFFF\"}, \"showarrow\": false, \"text\": \"0.953\", \"x\": \"virginica\", \"xref\": \"x\", \"y\": \"precision\", \"yref\": \"y\"}, {\"font\": {\"color\": \"#FFFFFF\"}, \"showarrow\": false, \"text\": \"1.0\", \"x\": \"setosa\", \"xref\": \"x\", \"y\": \"recall\", \"yref\": \"y\"}, {\"font\": {\"color\": \"#FFFFFF\"}, \"showarrow\": false, \"text\": \"0.941\", \"x\": \"versicolor\", \"xref\": \"x\", \"y\": \"recall\", \"yref\": \"y\"}, {\"font\": {\"color\": \"#FFFFFF\"}, \"showarrow\": false, \"text\": \"1.0\", \"x\": \"virginica\", \"xref\": \"x\", \"y\": \"recall\", \"yref\": \"y\"}, {\"font\": {\"color\": \"#FFFFFF\"}, \"showarrow\": false, \"text\": \"1.0\", \"x\": \"setosa\", \"xref\": \"x\", \"y\": \"f1-score\", \"yref\": \"y\"}, {\"font\": {\"color\": \"#FFFFFF\"}, \"showarrow\": false, \"text\": \"0.97\", \"x\": \"versicolor\", \"xref\": \"x\", \"y\": \"f1-score\", \"yref\": \"y\"}, {\"font\": {\"color\": \"#FFFFFF\"}, \"showarrow\": false, \"text\": \"0.976\", \"x\": \"virginica\", \"xref\": \"x\", \"y\": \"f1-score\", \"yref\": \"y\"}, {\"font\": {\"color\": \"#FFFFFF\"}, \"showarrow\": false, \"text\": \"1.0\", \"x\": \"setosa\", \"xref\": \"x\", \"y\": \"roc-auc\", \"yref\": \"y\"}, {\"font\": {\"color\": \"#FFFFFF\"}, \"showarrow\": false, \"text\": \"0.998\", \"x\": \"versicolor\", \"xref\": \"x\", \"y\": \"roc-auc\", \"yref\": \"y\"}, {\"font\": {\"color\": \"#FFFFFF\"}, \"showarrow\": false, \"text\": \"0.999\", \"x\": \"virginica\", \"xref\": \"x\", \"y\": \"roc-auc\", \"yref\": \"y\"}], \"xaxis\": {\"dtick\": 1, \"gridcolor\": \"rgb(0, 0, 0)\", \"side\": \"top\", \"ticks\": \"\", \"title\": {\"text\": \"Class\"}}, \"yaxis\": {\"dtick\": 1, \"ticks\": \"\", \"ticksuffix\": \"  \", \"title\": {\"text\": \"Metric\"}}, \"template\": {\"data\": {\"histogram2dcontour\": [{\"type\": \"histogram2dcontour\", \"colorbar\": {\"outlinewidth\": 0, \"ticks\": \"\"}, \"colorscale\": [[0.0, \"#0d0887\"], [0.1111111111111111, \"#46039f\"], [0.2222222222222222, \"#7201a8\"], [0.3333333333333333, \"#9c179e\"], [0.4444444444444444, \"#bd3786\"], [0.5555555555555556, \"#d8576b\"], [0.6666666666666666, \"#ed7953\"], [0.7777777777777778, \"#fb9f3a\"], [0.8888888888888888, \"#fdca26\"], [1.0, \"#f0f921\"]]}], \"choropleth\": [{\"type\": \"choropleth\", \"colorbar\": {\"outlinewidth\": 0, \"ticks\": \"\"}}], \"histogram2d\": [{\"type\": \"histogram2d\", \"colorbar\": {\"outlinewidth\": 0, \"ticks\": \"\"}, \"colorscale\": [[0.0, \"#0d0887\"], [0.1111111111111111, \"#46039f\"], [0.2222222222222222, \"#7201a8\"], [0.3333333333333333, \"#9c179e\"], [0.4444444444444444, \"#bd3786\"], [0.5555555555555556, \"#d8576b\"], [0.6666666666666666, \"#ed7953\"], [0.7777777777777778, \"#fb9f3a\"], [0.8888888888888888, \"#fdca26\"], [1.0, \"#f0f921\"]]}], \"heatmap\": [{\"type\": \"heatmap\", \"colorbar\": {\"outlinewidth\": 0, \"ticks\": \"\"}, \"colorscale\": [[0.0, \"#0d0887\"], [0.1111111111111111, \"#46039f\"], [0.2222222222222222, \"#7201a8\"], [0.3333333333333333, \"#9c179e\"], [0.4444444444444444, \"#bd3786\"], [0.5555555555555556, \"#d8576b\"], [0.6666666666666666, \"#ed7953\"], [0.7777777777777778, \"#fb9f3a\"], [0.8888888888888888, \"#fdca26\"], [1.0, \"#f0f921\"]]}], \"heatmapgl\": [{\"type\": \"heatmapgl\", \"colorbar\": {\"outlinewidth\": 0, \"ticks\": \"\"}, \"colorscale\": [[0.0, \"#0d0887\"], [0.1111111111111111, \"#46039f\"], [0.2222222222222222, \"#7201a8\"], [0.3333333333333333, \"#9c179e\"], [0.4444444444444444, \"#bd3786\"], [0.5555555555555556, \"#d8576b\"], [0.6666666666666666, \"#ed7953\"], [0.7777777777777778, \"#fb9f3a\"], [0.8888888888888888, \"#fdca26\"], [1.0, \"#f0f921\"]]}], \"contourcarpet\": [{\"type\": \"contourcarpet\", \"colorbar\": {\"outlinewidth\": 0, \"ticks\": \"\"}}], \"contour\": [{\"type\": \"contour\", \"colorbar\": {\"outlinewidth\": 0, \"ticks\": \"\"}, \"colorscale\": [[0.0, \"#0d0887\"], [0.1111111111111111, \"#46039f\"], [0.2222222222222222, \"#7201a8\"], [0.3333333333333333, \"#9c179e\"], [0.4444444444444444, \"#bd3786\"], [0.5555555555555556, \"#d8576b\"], [0.6666666666666666, \"#ed7953\"], [0.7777777777777778, \"#fb9f3a\"], [0.8888888888888888, \"#fdca26\"], [1.0, \"#f0f921\"]]}], \"surface\": [{\"type\": \"surface\", \"colorbar\": {\"outlinewidth\": 0, \"ticks\": \"\"}, \"colorscale\": [[0.0, \"#0d0887\"], [0.1111111111111111, \"#46039f\"], [0.2222222222222222, \"#7201a8\"], [0.3333333333333333, \"#9c179e\"], [0.4444444444444444, \"#bd3786\"], [0.5555555555555556, \"#d8576b\"], [0.6666666666666666, \"#ed7953\"], [0.7777777777777778, \"#fb9f3a\"], [0.8888888888888888, \"#fdca26\"], [1.0, \"#f0f921\"]]}], \"mesh3d\": [{\"type\": \"mesh3d\", \"colorbar\": {\"outlinewidth\": 0, \"ticks\": \"\"}}], \"scatter\": [{\"fillpattern\": {\"fillmode\": \"overlay\", \"size\": 10, \"solidity\": 0.2}, \"type\": \"scatter\"}], \"parcoords\": [{\"type\": \"parcoords\", \"line\": {\"colorbar\": {\"outlinewidth\": 0, \"ticks\": \"\"}}}], \"scatterpolargl\": [{\"type\": \"scatterpolargl\", \"marker\": {\"colorbar\": {\"outlinewidth\": 0, \"ticks\": \"\"}}}], \"bar\": [{\"error_x\": {\"color\": \"#2a3f5f\"}, \"error_y\": {\"color\": \"#2a3f5f\"}, \"marker\": {\"line\": {\"color\": \"#E5ECF6\", \"width\": 0.5}, \"pattern\": {\"fillmode\": \"overlay\", \"size\": 10, \"solidity\": 0.2}}, \"type\": \"bar\"}], \"scattergeo\": [{\"type\": \"scattergeo\", \"marker\": {\"colorbar\": {\"outlinewidth\": 0, \"ticks\": \"\"}}}], \"scatterpolar\": [{\"type\": \"scatterpolar\", \"marker\": {\"colorbar\": {\"outlinewidth\": 0, \"ticks\": \"\"}}}], \"histogram\": [{\"marker\": {\"pattern\": {\"fillmode\": \"overlay\", \"size\": 10, \"solidity\": 0.2}}, \"type\": \"histogram\"}], \"scattergl\": [{\"type\": \"scattergl\", \"marker\": {\"colorbar\": {\"outlinewidth\": 0, \"ticks\": \"\"}}}], \"scatter3d\": [{\"type\": \"scatter3d\", \"line\": {\"colorbar\": {\"outlinewidth\": 0, \"ticks\": \"\"}}, \"marker\": {\"colorbar\": {\"outlinewidth\": 0, \"ticks\": \"\"}}}], \"scattermapbox\": [{\"type\": \"scattermapbox\", \"marker\": {\"colorbar\": {\"outlinewidth\": 0, \"ticks\": \"\"}}}], \"scatterternary\": [{\"type\": \"scatterternary\", \"marker\": {\"colorbar\": {\"outlinewidth\": 0, \"ticks\": \"\"}}}], \"scattercarpet\": [{\"type\": \"scattercarpet\", \"marker\": {\"colorbar\": {\"outlinewidth\": 0, \"ticks\": \"\"}}}], \"carpet\": [{\"aaxis\": {\"endlinecolor\": \"#2a3f5f\", \"gridcolor\": \"white\", \"linecolor\": \"white\", \"minorgridcolor\": \"white\", \"startlinecolor\": \"#2a3f5f\"}, \"baxis\": {\"endlinecolor\": \"#2a3f5f\", \"gridcolor\": \"white\", \"linecolor\": \"white\", \"minorgridcolor\": \"white\", \"startlinecolor\": \"#2a3f5f\"}, \"type\": \"carpet\"}], \"table\": [{\"cells\": {\"fill\": {\"color\": \"#EBF0F8\"}, \"line\": {\"color\": \"white\"}}, \"header\": {\"fill\": {\"color\": \"#C8D4E3\"}, \"line\": {\"color\": \"white\"}}, \"type\": \"table\"}], \"barpolar\": [{\"marker\": {\"line\": {\"color\": \"#E5ECF6\", \"width\": 0.5}, \"pattern\": {\"fillmode\": \"overlay\", \"size\": 10, \"solidity\": 0.2}}, \"type\": \"barpolar\"}], \"pie\": [{\"automargin\": true, \"type\": \"pie\"}]}, \"layout\": {\"autotypenumbers\": \"strict\", \"colorway\": [\"#636efa\", \"#EF553B\", \"#00cc96\", \"#ab63fa\", \"#FFA15A\", \"#19d3f3\", \"#FF6692\", \"#B6E880\", \"#FF97FF\", \"#FECB52\"], \"font\": {\"color\": \"#2a3f5f\"}, \"hovermode\": \"closest\", \"hoverlabel\": {\"align\": \"left\"}, \"paper_bgcolor\": \"white\", \"plot_bgcolor\": \"#E5ECF6\", \"polar\": {\"bgcolor\": \"#E5ECF6\", \"angularaxis\": {\"gridcolor\": \"white\", \"linecolor\": \"white\", \"ticks\": \"\"}, \"radialaxis\": {\"gridcolor\": \"white\", \"linecolor\": \"white\", \"ticks\": \"\"}}, \"ternary\": {\"bgcolor\": \"#E5ECF6\", \"aaxis\": {\"gridcolor\": \"white\", \"linecolor\": \"white\", \"ticks\": \"\"}, \"baxis\": {\"gridcolor\": \"white\", \"linecolor\": \"white\", \"ticks\": \"\"}, \"caxis\": {\"gridcolor\": \"white\", \"linecolor\": \"white\", \"ticks\": \"\"}}, \"coloraxis\": {\"colorbar\": {\"outlinewidth\": 0, \"ticks\": \"\"}}, \"colorscale\": {\"sequential\": [[0.0, \"#0d0887\"], [0.1111111111111111, \"#46039f\"], [0.2222222222222222, \"#7201a8\"], [0.3333333333333333, \"#9c179e\"], [0.4444444444444444, \"#bd3786\"], [0.5555555555555556, \"#d8576b\"], [0.6666666666666666, \"#ed7953\"], [0.7777777777777778, \"#fb9f3a\"], [0.8888888888888888, \"#fdca26\"], [1.0, \"#f0f921\"]], \"sequentialminus\": [[0.0, \"#0d0887\"], [0.1111111111111111, \"#46039f\"], [0.2222222222222222, \"#7201a8\"], [0.3333333333333333, \"#9c179e\"], [0.4444444444444444, \"#bd3786\"], [0.5555555555555556, \"#d8576b\"], [0.6666666666666666, \"#ed7953\"], [0.7777777777777778, \"#fb9f3a\"], [0.8888888888888888, \"#fdca26\"], [1.0, \"#f0f921\"]], \"diverging\": [[0, \"#8e0152\"], [0.1, \"#c51b7d\"], [0.2, \"#de77ae\"], [0.3, \"#f1b6da\"], [0.4, \"#fde0ef\"], [0.5, \"#f7f7f7\"], [0.6, \"#e6f5d0\"], [0.7, \"#b8e186\"], [0.8, \"#7fbc41\"], [0.9, \"#4d9221\"], [1, \"#276419\"]]}, \"xaxis\": {\"gridcolor\": \"white\", \"linecolor\": \"white\", \"ticks\": \"\", \"title\": {\"standoff\": 15}, \"zerolinecolor\": \"white\", \"automargin\": true, \"zerolinewidth\": 2}, \"yaxis\": {\"gridcolor\": \"white\", \"linecolor\": \"white\", \"ticks\": \"\", \"title\": {\"standoff\": 15}, \"zerolinecolor\": \"white\", \"automargin\": true, \"zerolinewidth\": 2}, \"scene\": {\"xaxis\": {\"backgroundcolor\": \"#E5ECF6\", \"gridcolor\": \"white\", \"linecolor\": \"white\", \"showbackground\": true, \"ticks\": \"\", \"zerolinecolor\": \"white\", \"gridwidth\": 2}, \"yaxis\": {\"backgroundcolor\": \"#E5ECF6\", \"gridcolor\": \"white\", \"linecolor\": \"white\", \"showbackground\": true, \"ticks\": \"\", \"zerolinecolor\": \"white\", \"gridwidth\": 2}, \"zaxis\": {\"backgroundcolor\": \"#E5ECF6\", \"gridcolor\": \"white\", \"linecolor\": \"white\", \"showbackground\": true, \"ticks\": \"\", \"zerolinecolor\": \"white\", \"gridwidth\": 2}}, \"shapedefaults\": {\"line\": {\"color\": \"#2a3f5f\"}}, \"annotationdefaults\": {\"arrowcolor\": \"#2a3f5f\", \"arrowhead\": 0, \"arrowwidth\": 1}, \"geo\": {\"bgcolor\": \"white\", \"landcolor\": \"#E5ECF6\", \"subunitcolor\": \"white\", \"showland\": true, \"showlakes\": true, \"lakecolor\": \"white\"}, \"title\": {\"x\": 0.05}, \"mapbox\": {\"style\": \"light\"}}}}}, \"insights\": [], \"alerts\": [], \"tabs\": [], \"widgets\": [], \"pageSize\": 5}, {\"type\": \"big_graph\", \"title\": \"Current: Quality Metrics by Class\", \"size\": 1, \"id\": \"\", \"details\": \"\", \"alertsPosition\": null, \"alertStats\": null, \"params\": {\"data\": [{\"colorscale\": [[0.0, \"rgb(0,0,255)\"], [1.0, \"rgb(255,0,0)\"]], \"reversescale\": false, \"showscale\": true, \"x\": [\"setosa\", \"versicolor\", \"virginica\"], \"y\": [\"precision\", \"recall\", \"f1-score\", \"roc-auc\"], \"z\": [[1.0, 1.0, 0.9], [1.0, 0.9375, 1.0], [1.0, 0.967741935483871, 0.9473684210526316], [1.0, 0.9943181818181818, 0.9923371647509579]], \"type\": \"heatmap\"}], \"layout\": {\"annotations\": [{\"font\": {\"color\": \"#FFFFFF\"}, \"showarrow\": false, \"text\": \"1.0\", \"x\": \"setosa\", \"xref\": \"x\", \"y\": \"precision\", \"yref\": \"y\"}, {\"font\": {\"color\": \"#FFFFFF\"}, \"showarrow\": false, \"text\": \"1.0\", \"x\": \"versicolor\", \"xref\": \"x\", \"y\": \"precision\", \"yref\": \"y\"}, {\"font\": {\"color\": \"#FFFFFF\"}, \"showarrow\": false, \"text\": \"0.9\", \"x\": \"virginica\", \"xref\": \"x\", \"y\": \"precision\", \"yref\": \"y\"}, {\"font\": {\"color\": \"#FFFFFF\"}, \"showarrow\": false, \"text\": \"1.0\", \"x\": \"setosa\", \"xref\": \"x\", \"y\": \"recall\", \"yref\": \"y\"}, {\"font\": {\"color\": \"#FFFFFF\"}, \"showarrow\": false, \"text\": \"0.938\", \"x\": \"versicolor\", \"xref\": \"x\", \"y\": \"recall\", \"yref\": \"y\"}, {\"font\": {\"color\": \"#FFFFFF\"}, \"showarrow\": false, \"text\": \"1.0\", \"x\": \"virginica\", \"xref\": \"x\", \"y\": \"recall\", \"yref\": \"y\"}, {\"font\": {\"color\": \"#FFFFFF\"}, \"showarrow\": false, \"text\": \"1.0\", \"x\": \"setosa\", \"xref\": \"x\", \"y\": \"f1-score\", \"yref\": \"y\"}, {\"font\": {\"color\": \"#FFFFFF\"}, \"showarrow\": false, \"text\": \"0.968\", \"x\": \"versicolor\", \"xref\": \"x\", \"y\": \"f1-score\", \"yref\": \"y\"}, {\"font\": {\"color\": \"#FFFFFF\"}, \"showarrow\": false, \"text\": \"0.947\", \"x\": \"virginica\", \"xref\": \"x\", \"y\": \"f1-score\", \"yref\": \"y\"}, {\"font\": {\"color\": \"#FFFFFF\"}, \"showarrow\": false, \"text\": \"1.0\", \"x\": \"setosa\", \"xref\": \"x\", \"y\": \"roc-auc\", \"yref\": \"y\"}, {\"font\": {\"color\": \"#FFFFFF\"}, \"showarrow\": false, \"text\": \"0.994\", \"x\": \"versicolor\", \"xref\": \"x\", \"y\": \"roc-auc\", \"yref\": \"y\"}, {\"font\": {\"color\": \"#FFFFFF\"}, \"showarrow\": false, \"text\": \"0.992\", \"x\": \"virginica\", \"xref\": \"x\", \"y\": \"roc-auc\", \"yref\": \"y\"}], \"xaxis\": {\"dtick\": 1, \"gridcolor\": \"rgb(0, 0, 0)\", \"side\": \"top\", \"ticks\": \"\", \"title\": {\"text\": \"Class\"}}, \"yaxis\": {\"dtick\": 1, \"ticks\": \"\", \"ticksuffix\": \"  \", \"title\": {\"text\": \"Metric\"}}, \"template\": {\"data\": {\"histogram2dcontour\": [{\"type\": \"histogram2dcontour\", \"colorbar\": {\"outlinewidth\": 0, \"ticks\": \"\"}, \"colorscale\": [[0.0, \"#0d0887\"], [0.1111111111111111, \"#46039f\"], [0.2222222222222222, \"#7201a8\"], [0.3333333333333333, \"#9c179e\"], [0.4444444444444444, \"#bd3786\"], [0.5555555555555556, \"#d8576b\"], [0.6666666666666666, \"#ed7953\"], [0.7777777777777778, \"#fb9f3a\"], [0.8888888888888888, \"#fdca26\"], [1.0, \"#f0f921\"]]}], \"choropleth\": [{\"type\": \"choropleth\", \"colorbar\": {\"outlinewidth\": 0, \"ticks\": \"\"}}], \"histogram2d\": [{\"type\": \"histogram2d\", \"colorbar\": {\"outlinewidth\": 0, \"ticks\": \"\"}, \"colorscale\": [[0.0, \"#0d0887\"], [0.1111111111111111, \"#46039f\"], [0.2222222222222222, \"#7201a8\"], [0.3333333333333333, \"#9c179e\"], [0.4444444444444444, \"#bd3786\"], [0.5555555555555556, \"#d8576b\"], [0.6666666666666666, \"#ed7953\"], [0.7777777777777778, \"#fb9f3a\"], [0.8888888888888888, \"#fdca26\"], [1.0, \"#f0f921\"]]}], \"heatmap\": [{\"type\": \"heatmap\", \"colorbar\": {\"outlinewidth\": 0, \"ticks\": \"\"}, \"colorscale\": [[0.0, \"#0d0887\"], [0.1111111111111111, \"#46039f\"], [0.2222222222222222, \"#7201a8\"], [0.3333333333333333, \"#9c179e\"], [0.4444444444444444, \"#bd3786\"], [0.5555555555555556, \"#d8576b\"], [0.6666666666666666, \"#ed7953\"], [0.7777777777777778, \"#fb9f3a\"], [0.8888888888888888, \"#fdca26\"], [1.0, \"#f0f921\"]]}], \"heatmapgl\": [{\"type\": \"heatmapgl\", \"colorbar\": {\"outlinewidth\": 0, \"ticks\": \"\"}, \"colorscale\": [[0.0, \"#0d0887\"], [0.1111111111111111, \"#46039f\"], [0.2222222222222222, \"#7201a8\"], [0.3333333333333333, \"#9c179e\"], [0.4444444444444444, \"#bd3786\"], [0.5555555555555556, \"#d8576b\"], [0.6666666666666666, \"#ed7953\"], [0.7777777777777778, \"#fb9f3a\"], [0.8888888888888888, \"#fdca26\"], [1.0, \"#f0f921\"]]}], \"contourcarpet\": [{\"type\": \"contourcarpet\", \"colorbar\": {\"outlinewidth\": 0, \"ticks\": \"\"}}], \"contour\": [{\"type\": \"contour\", \"colorbar\": {\"outlinewidth\": 0, \"ticks\": \"\"}, \"colorscale\": [[0.0, \"#0d0887\"], [0.1111111111111111, \"#46039f\"], [0.2222222222222222, \"#7201a8\"], [0.3333333333333333, \"#9c179e\"], [0.4444444444444444, \"#bd3786\"], [0.5555555555555556, \"#d8576b\"], [0.6666666666666666, \"#ed7953\"], [0.7777777777777778, \"#fb9f3a\"], [0.8888888888888888, \"#fdca26\"], [1.0, \"#f0f921\"]]}], \"surface\": [{\"type\": \"surface\", \"colorbar\": {\"outlinewidth\": 0, \"ticks\": \"\"}, \"colorscale\": [[0.0, \"#0d0887\"], [0.1111111111111111, \"#46039f\"], [0.2222222222222222, \"#7201a8\"], [0.3333333333333333, \"#9c179e\"], [0.4444444444444444, \"#bd3786\"], [0.5555555555555556, \"#d8576b\"], [0.6666666666666666, \"#ed7953\"], [0.7777777777777778, \"#fb9f3a\"], [0.8888888888888888, \"#fdca26\"], [1.0, \"#f0f921\"]]}], \"mesh3d\": [{\"type\": \"mesh3d\", \"colorbar\": {\"outlinewidth\": 0, \"ticks\": \"\"}}], \"scatter\": [{\"fillpattern\": {\"fillmode\": \"overlay\", \"size\": 10, \"solidity\": 0.2}, \"type\": \"scatter\"}], \"parcoords\": [{\"type\": \"parcoords\", \"line\": {\"colorbar\": {\"outlinewidth\": 0, \"ticks\": \"\"}}}], \"scatterpolargl\": [{\"type\": \"scatterpolargl\", \"marker\": {\"colorbar\": {\"outlinewidth\": 0, \"ticks\": \"\"}}}], \"bar\": [{\"error_x\": {\"color\": \"#2a3f5f\"}, \"error_y\": {\"color\": \"#2a3f5f\"}, \"marker\": {\"line\": {\"color\": \"#E5ECF6\", \"width\": 0.5}, \"pattern\": {\"fillmode\": \"overlay\", \"size\": 10, \"solidity\": 0.2}}, \"type\": \"bar\"}], \"scattergeo\": [{\"type\": \"scattergeo\", \"marker\": {\"colorbar\": {\"outlinewidth\": 0, \"ticks\": \"\"}}}], \"scatterpolar\": [{\"type\": \"scatterpolar\", \"marker\": {\"colorbar\": {\"outlinewidth\": 0, \"ticks\": \"\"}}}], \"histogram\": [{\"marker\": {\"pattern\": {\"fillmode\": \"overlay\", \"size\": 10, \"solidity\": 0.2}}, \"type\": \"histogram\"}], \"scattergl\": [{\"type\": \"scattergl\", \"marker\": {\"colorbar\": {\"outlinewidth\": 0, \"ticks\": \"\"}}}], \"scatter3d\": [{\"type\": \"scatter3d\", \"line\": {\"colorbar\": {\"outlinewidth\": 0, \"ticks\": \"\"}}, \"marker\": {\"colorbar\": {\"outlinewidth\": 0, \"ticks\": \"\"}}}], \"scattermapbox\": [{\"type\": \"scattermapbox\", \"marker\": {\"colorbar\": {\"outlinewidth\": 0, \"ticks\": \"\"}}}], \"scatterternary\": [{\"type\": \"scatterternary\", \"marker\": {\"colorbar\": {\"outlinewidth\": 0, \"ticks\": \"\"}}}], \"scattercarpet\": [{\"type\": \"scattercarpet\", \"marker\": {\"colorbar\": {\"outlinewidth\": 0, \"ticks\": \"\"}}}], \"carpet\": [{\"aaxis\": {\"endlinecolor\": \"#2a3f5f\", \"gridcolor\": \"white\", \"linecolor\": \"white\", \"minorgridcolor\": \"white\", \"startlinecolor\": \"#2a3f5f\"}, \"baxis\": {\"endlinecolor\": \"#2a3f5f\", \"gridcolor\": \"white\", \"linecolor\": \"white\", \"minorgridcolor\": \"white\", \"startlinecolor\": \"#2a3f5f\"}, \"type\": \"carpet\"}], \"table\": [{\"cells\": {\"fill\": {\"color\": \"#EBF0F8\"}, \"line\": {\"color\": \"white\"}}, \"header\": {\"fill\": {\"color\": \"#C8D4E3\"}, \"line\": {\"color\": \"white\"}}, \"type\": \"table\"}], \"barpolar\": [{\"marker\": {\"line\": {\"color\": \"#E5ECF6\", \"width\": 0.5}, \"pattern\": {\"fillmode\": \"overlay\", \"size\": 10, \"solidity\": 0.2}}, \"type\": \"barpolar\"}], \"pie\": [{\"automargin\": true, \"type\": \"pie\"}]}, \"layout\": {\"autotypenumbers\": \"strict\", \"colorway\": [\"#636efa\", \"#EF553B\", \"#00cc96\", \"#ab63fa\", \"#FFA15A\", \"#19d3f3\", \"#FF6692\", \"#B6E880\", \"#FF97FF\", \"#FECB52\"], \"font\": {\"color\": \"#2a3f5f\"}, \"hovermode\": \"closest\", \"hoverlabel\": {\"align\": \"left\"}, \"paper_bgcolor\": \"white\", \"plot_bgcolor\": \"#E5ECF6\", \"polar\": {\"bgcolor\": \"#E5ECF6\", \"angularaxis\": {\"gridcolor\": \"white\", \"linecolor\": \"white\", \"ticks\": \"\"}, \"radialaxis\": {\"gridcolor\": \"white\", \"linecolor\": \"white\", \"ticks\": \"\"}}, \"ternary\": {\"bgcolor\": \"#E5ECF6\", \"aaxis\": {\"gridcolor\": \"white\", \"linecolor\": \"white\", \"ticks\": \"\"}, \"baxis\": {\"gridcolor\": \"white\", \"linecolor\": \"white\", \"ticks\": \"\"}, \"caxis\": {\"gridcolor\": \"white\", \"linecolor\": \"white\", \"ticks\": \"\"}}, \"coloraxis\": {\"colorbar\": {\"outlinewidth\": 0, \"ticks\": \"\"}}, \"colorscale\": {\"sequential\": [[0.0, \"#0d0887\"], [0.1111111111111111, \"#46039f\"], [0.2222222222222222, \"#7201a8\"], [0.3333333333333333, \"#9c179e\"], [0.4444444444444444, \"#bd3786\"], [0.5555555555555556, \"#d8576b\"], [0.6666666666666666, \"#ed7953\"], [0.7777777777777778, \"#fb9f3a\"], [0.8888888888888888, \"#fdca26\"], [1.0, \"#f0f921\"]], \"sequentialminus\": [[0.0, \"#0d0887\"], [0.1111111111111111, \"#46039f\"], [0.2222222222222222, \"#7201a8\"], [0.3333333333333333, \"#9c179e\"], [0.4444444444444444, \"#bd3786\"], [0.5555555555555556, \"#d8576b\"], [0.6666666666666666, \"#ed7953\"], [0.7777777777777778, \"#fb9f3a\"], [0.8888888888888888, \"#fdca26\"], [1.0, \"#f0f921\"]], \"diverging\": [[0, \"#8e0152\"], [0.1, \"#c51b7d\"], [0.2, \"#de77ae\"], [0.3, \"#f1b6da\"], [0.4, \"#fde0ef\"], [0.5, \"#f7f7f7\"], [0.6, \"#e6f5d0\"], [0.7, \"#b8e186\"], [0.8, \"#7fbc41\"], [0.9, \"#4d9221\"], [1, \"#276419\"]]}, \"xaxis\": {\"gridcolor\": \"white\", \"linecolor\": \"white\", \"ticks\": \"\", \"title\": {\"standoff\": 15}, \"zerolinecolor\": \"white\", \"automargin\": true, \"zerolinewidth\": 2}, \"yaxis\": {\"gridcolor\": \"white\", \"linecolor\": \"white\", \"ticks\": \"\", \"title\": {\"standoff\": 15}, \"zerolinecolor\": \"white\", \"automargin\": true, \"zerolinewidth\": 2}, \"scene\": {\"xaxis\": {\"backgroundcolor\": \"#E5ECF6\", \"gridcolor\": \"white\", \"linecolor\": \"white\", \"showbackground\": true, \"ticks\": \"\", \"zerolinecolor\": \"white\", \"gridwidth\": 2}, \"yaxis\": {\"backgroundcolor\": \"#E5ECF6\", \"gridcolor\": \"white\", \"linecolor\": \"white\", \"showbackground\": true, \"ticks\": \"\", \"zerolinecolor\": \"white\", \"gridwidth\": 2}, \"zaxis\": {\"backgroundcolor\": \"#E5ECF6\", \"gridcolor\": \"white\", \"linecolor\": \"white\", \"showbackground\": true, \"ticks\": \"\", \"zerolinecolor\": \"white\", \"gridwidth\": 2}}, \"shapedefaults\": {\"line\": {\"color\": \"#2a3f5f\"}}, \"annotationdefaults\": {\"arrowcolor\": \"#2a3f5f\", \"arrowhead\": 0, \"arrowwidth\": 1}, \"geo\": {\"bgcolor\": \"white\", \"landcolor\": \"#E5ECF6\", \"subunitcolor\": \"white\", \"showland\": true, \"showlakes\": true, \"lakecolor\": \"white\"}, \"title\": {\"x\": 0.05}, \"mapbox\": {\"style\": \"light\"}}}}}, \"insights\": [], \"alerts\": [], \"tabs\": [], \"widgets\": [], \"pageSize\": 5}]};\n",
       "    var additional_graphs_evidently_dashboard_68686bde6e7b4ca2a2695643087677fb = {};\n",
       "</script>\n",
       "<script>\n",
       "function domReady(fn) {\n",
       "  // If we're early to the party\n",
       "  document.addEventListener(\"DOMContentLoaded\", fn);\n",
       "  // If late; I mean on time.\n",
       "  if (document.readyState === \"interactive\" || document.readyState === \"complete\" ) {\n",
       "    fn();\n",
       "  }\n",
       "}\n",
       "\n",
       "domReady(function () {\n",
       "    requirejs([\"evidently\"], function(ev) {\n",
       "        drawDashboard(evidently_dashboard_68686bde6e7b4ca2a2695643087677fb,\n",
       "        new Map(Object.entries(additional_graphs_evidently_dashboard_68686bde6e7b4ca2a2695643087677fb)),\n",
       "        \"root_evidently_dashboard_68686bde6e7b4ca2a2695643087677fb\");\n",
       "    },\n",
       "    function(err) {\n",
       "        $(\"#root_evidently_dashboard_68686bde6e7b4ca2a2695643087677fb\").innerHTML = \"Failed to load\";\n",
       "    })\n",
       "});\n",
       "</script>\n",
       "<div class=\"reset-this-parent\" id=\"root_evidently_dashboard_68686bde6e7b4ca2a2695643087677fb\">Loading...</div>\n",
       "\n"
      ],
      "text/plain": [
       "<IPython.core.display.HTML object>"
      ]
     },
     "execution_count": 14,
     "metadata": {},
     "output_type": "execute_result"
    }
   ],
   "source": [
    "\n",
    "#Probabilistic Model Performance Dashboard short (verbose_level=0)\n",
    "iris_prob_classification_dashboard = Dashboard(tabs=[ProbClassificationPerformanceTab(verbose_level=0)])\n",
    "iris_prob_classification_dashboard.calculate(merged_train_data, merged_test_data, \n",
    "                                             column_mapping = iris_column_mapping)\n",
    "iris_prob_classification_dashboard.show()\n"
   ]
  },
  {
   "cell_type": "code",
   "execution_count": 15,
   "metadata": {},
   "outputs": [],
   "source": [
    "#Model Performance Profile\n",
    "iris_prob_classification_profile = Profile(sections=[ProbClassificationPerformanceProfileSection()])\n",
    "iris_prob_classification_profile.calculate(merged_train_data, merged_test_data, \n",
    "                                           column_mapping = iris_column_mapping)"
   ]
  },
  {
   "cell_type": "code",
   "execution_count": 16,
   "metadata": {},
   "outputs": [
    {
     "data": {
      "text/plain": [
       "'{\"probabilistic_classification_performance\": {\"name\": \"probabilistic_classification_performance\", \"datetime\": \"2022-07-21 16:10:23.173213\", \"data\": {\"utility_columns\": {\"date\": null, \"id\": null, \"target\": \"target\", \"prediction\": [\"setosa\", \"versicolor\", \"virginica\"]}, \"cat_feature_names\": [], \"num_feature_names\": [\"petal length (cm)\", \"petal width (cm)\", \"sepal length (cm)\", \"sepal width (cm)\"], \"datetime_feature_names\": [], \"target_names\": null, \"options\": {\"conf_interval_n_sigmas\": 1, \"classification_threshold\": 0.5, \"cut_quantile\": null}, \"metrics\": {\"reference\": {\"accuracy\": 0.9821428571428571, \"precision\": 0.9844961240310077, \"recall\": 0.9803921568627452, \"f1\": 0.981962481962482, \"pr_curve\": {\"setosa\": {\"pr\": [0.33035714285714285, 0.3333333333333333, 0.33636363636363636, 0.3394495412844037, 0.3425925925925926, 0.34579439252336447, 0.3490566037735849, 0.3523809523809524, 0.3557692307692308, 0.3592233009708738, 0.3627450980392157, 0.36633663366336633, 0.37, 0.37373737373737376, 0.37755102040816324, 0.38144329896907214, 0.3854166666666667, 0.3894736842105263, 0.39361702127659576, 0.3978494623655914, 0.40217391304347827, 0.4065934065934066, 0.4111111111111111, 0.4157303370786517, 0.42045454545454547, 0.42528735632183906, 0.43023255813953487, 0.43529411764705883, 0.44047619047619047, 0.4457831325301205, 0.45121951219512196, 0.4567901234567901, 0.4625, 0.47435897435897434, 0.4805194805194805, 0.4868421052631579, 0.49333333333333335, 0.5, 0.5068493150684932, 0.5138888888888888, 0.5211267605633803, 0.5285714285714286, 0.5362318840579711, 0.5441176470588235, 0.5522388059701493, 0.5606060606060606, 0.5692307692307692, 0.578125, 0.5873015873015873, 0.5967741935483871, 0.6065573770491803, 0.6166666666666667, 0.6271186440677966, 0.6379310344827587, 0.6491228070175439, 0.6607142857142857, 0.6727272727272727, 0.6851851851851852, 0.6981132075471698, 0.7115384615384616, 0.7254901960784313, 0.74, 0.7551020408163265, 0.7708333333333334, 0.7872340425531915, 0.8043478260869565, 0.8222222222222222, 0.8409090909090909, 0.8604651162790697, 0.8809523809523809, 0.9024390243902439, 0.925, 0.9487179487179487, 0.9736842105263158, 1.0, 1.0, 1.0, 1.0, 1.0, 1.0, 1.0, 1.0, 1.0, 1.0, 1.0, 1.0, 1.0, 1.0, 1.0, 1.0, 1.0, 1.0, 1.0, 1.0, 1.0, 1.0, 1.0, 1.0, 1.0, 1.0, 1.0, 1.0, 1.0, 1.0, 1.0, 1.0, 1.0, 1.0, 1.0, 1.0, 1.0, 1.0], \"rcl\": [1.0, 1.0, 1.0, 1.0, 1.0, 1.0, 1.0, 1.0, 1.0, 1.0, 1.0, 1.0, 1.0, 1.0, 1.0, 1.0, 1.0, 1.0, 1.0, 1.0, 1.0, 1.0, 1.0, 1.0, 1.0, 1.0, 1.0, 1.0, 1.0, 1.0, 1.0, 1.0, 1.0, 1.0, 1.0, 1.0, 1.0, 1.0, 1.0, 1.0, 1.0, 1.0, 1.0, 1.0, 1.0, 1.0, 1.0, 1.0, 1.0, 1.0, 1.0, 1.0, 1.0, 1.0, 1.0, 1.0, 1.0, 1.0, 1.0, 1.0, 1.0, 1.0, 1.0, 1.0, 1.0, 1.0, 1.0, 1.0, 1.0, 1.0, 1.0, 1.0, 1.0, 1.0, 1.0, 0.972972972972973, 0.9459459459459459, 0.918918918918919, 0.8918918918918919, 0.8648648648648649, 0.8378378378378378, 0.8108108108108109, 0.7837837837837838, 0.7567567567567568, 0.7297297297297297, 0.7027027027027027, 0.6756756756756757, 0.6486486486486487, 0.6216216216216216, 0.5945945945945946, 0.5675675675675675, 0.5405405405405406, 0.5135135135135135, 0.4864864864864865, 0.4594594594594595, 0.43243243243243246, 0.40540540540540543, 0.3783783783783784, 0.35135135135135137, 0.32432432432432434, 0.2972972972972973, 0.2702702702702703, 0.24324324324324326, 0.21621621621621623, 0.1891891891891892, 0.16216216216216217, 0.13513513513513514, 0.10810810810810811, 0.08108108108108109, 0.05405405405405406, 0.02702702702702703, 0.0], \"thrs\": [1.0312576341493808e-08, 8.084793475369461e-08, 1.3756231013092153e-07, 1.9228234286150088e-07, 8.866641392640028e-07, 1.3177392023990321e-06, 1.4169510044897774e-06, 2.119988586764237e-06, 4.133546588261373e-06, 4.7952127690795875e-06, 7.2763688900190006e-06, 7.611308304254108e-06, 8.263174725996889e-06, 9.587451891181633e-06, 1.0490162669119166e-05, 1.2134033399438252e-05, 1.929447652353208e-05, 2.10481351208747e-05, 2.1689509434744228e-05, 2.6085158323330668e-05, 3.552759128169985e-05, 4.922827996159682e-05, 6.253173896902234e-05, 7.363350809739682e-05, 8.308497399733036e-05, 8.348134982348558e-05, 9.049939143947536e-05, 0.00011172729673357776, 0.0001516178114704324, 0.00020009428283743248, 0.0003288310891866614, 0.00034267870000497143, 0.00034865620788606554, 0.00040614638560285013, 0.0005547028157338327, 0.0006261984339596474, 0.0007003520131428702, 0.000747300989762422, 0.0007790120846545134, 0.0009730336085198447, 0.0013633037461704075, 0.0019891740632154977, 0.002475854250483441, 0.002723158942907581, 0.0027280205232821995, 0.003675549040236008, 0.0038411241301754464, 0.004438985274468822, 0.0057949318467100915, 0.006373898754893015, 0.006569178611256624, 0.007005540495001759, 0.00888397600677493, 0.008989494499743799, 0.01124349634770393, 0.017767717797881694, 0.018068265893679852, 0.01974548660833824, 0.020864845511294604, 0.02151457816788776, 0.0221935038594097, 0.02339573103437336, 0.024498877088528666, 0.0248007534869478, 0.030469523140633704, 0.030830680322884163, 0.03201523887330852, 0.0368078845413572, 0.04674596510537162, 0.07037375290782082, 0.07291229042290705, 0.0822940027387998, 0.16802981867787184, 0.25677336102369114, 0.936238425033733, 0.9410426482825351, 0.9434235238608255, 0.9549365195677001, 0.9562757810061534, 0.9575600997483462, 0.9610294431433708, 0.9620809709540432, 0.9630792480779532, 0.9636300250837747, 0.9652725347535597, 0.9654439653003202, 0.9674031071360328, 0.9692764266895212, 0.9693309823135097, 0.969547094162714, 0.9709072872540646, 0.9711126312381184, 0.9719999877815008, 0.9721391045512565, 0.9728949493507182, 0.9743789459671529, 0.9753810829762366, 0.9756032831254364, 0.976254343775392, 0.978580732885246, 0.9789784986877464, 0.9799261276241829, 0.9805450345801887, 0.9806382430691298, 0.981262423557438, 0.9821919598011742, 0.9827545772069641, 0.9829755861715913, 0.9841372968447388, 0.9857928647967276, 0.989583933480464]}, \"versicolor\": {\"pr\": [0.30357142857142855, 0.3063063063063063, 0.3090909090909091, 0.3119266055045872, 0.3148148148148148, 0.3177570093457944, 0.32075471698113206, 0.3238095238095238, 0.3269230769230769, 0.3300970873786408, 0.3333333333333333, 0.33663366336633666, 0.34, 0.3434343434343434, 0.3469387755102041, 0.35051546391752575, 0.3541666666666667, 0.35789473684210527, 0.3617021276595745, 0.3655913978494624, 0.3695652173913043, 0.37362637362637363, 0.37777777777777777, 0.38202247191011235, 0.38636363636363635, 0.39080459770114945, 0.3953488372093023, 0.4, 0.40476190476190477, 0.40963855421686746, 0.4146341463414634, 0.41975308641975306, 0.425, 0.43037974683544306, 0.4358974358974359, 0.44155844155844154, 0.4473684210526316, 0.4533333333333333, 0.4594594594594595, 0.4657534246575342, 0.4722222222222222, 0.4788732394366197, 0.4857142857142857, 0.4927536231884058, 0.5, 0.5074626865671642, 0.5151515151515151, 0.5230769230769231, 0.53125, 0.5396825396825397, 0.5483870967741935, 0.5573770491803278, 0.5666666666666667, 0.576271186440678, 0.5862068965517241, 0.5964912280701754, 0.6071428571428571, 0.6181818181818182, 0.6296296296296297, 0.6415094339622641, 0.6538461538461539, 0.6666666666666666, 0.68, 0.6938775510204082, 0.7083333333333334, 0.723404255319149, 0.7391304347826086, 0.7555555555555555, 0.7727272727272727, 0.8095238095238095, 0.8292682926829268, 0.85, 0.8717948717948718, 0.8947368421052632, 0.918918918918919, 0.9166666666666666, 0.9428571428571428, 0.9705882352941176, 0.9696969696969697, 1.0, 1.0, 1.0, 1.0, 1.0, 1.0, 1.0, 1.0, 1.0, 1.0, 1.0, 1.0, 1.0, 1.0, 1.0, 1.0, 1.0, 1.0, 1.0, 1.0, 1.0, 1.0, 1.0, 1.0, 1.0, 1.0, 1.0, 1.0, 1.0, 1.0, 1.0, 1.0, 1.0], \"rcl\": [1.0, 1.0, 1.0, 1.0, 1.0, 1.0, 1.0, 1.0, 1.0, 1.0, 1.0, 1.0, 1.0, 1.0, 1.0, 1.0, 1.0, 1.0, 1.0, 1.0, 1.0, 1.0, 1.0, 1.0, 1.0, 1.0, 1.0, 1.0, 1.0, 1.0, 1.0, 1.0, 1.0, 1.0, 1.0, 1.0, 1.0, 1.0, 1.0, 1.0, 1.0, 1.0, 1.0, 1.0, 1.0, 1.0, 1.0, 1.0, 1.0, 1.0, 1.0, 1.0, 1.0, 1.0, 1.0, 1.0, 1.0, 1.0, 1.0, 1.0, 1.0, 1.0, 1.0, 1.0, 1.0, 1.0, 1.0, 1.0, 1.0, 1.0, 1.0, 1.0, 1.0, 1.0, 1.0, 0.9705882352941176, 0.9705882352941176, 0.9705882352941176, 0.9411764705882353, 0.9411764705882353, 0.9117647058823529, 0.8823529411764706, 0.8529411764705882, 0.8235294117647058, 0.7941176470588235, 0.7647058823529411, 0.7352941176470589, 0.7058823529411765, 0.6764705882352942, 0.6470588235294118, 0.6176470588235294, 0.5882352941176471, 0.5588235294117647, 0.5294117647058824, 0.5, 0.47058823529411764, 0.4411764705882353, 0.4117647058823529, 0.38235294117647056, 0.35294117647058826, 0.3235294117647059, 0.29411764705882354, 0.2647058823529412, 0.23529411764705882, 0.20588235294117646, 0.17647058823529413, 0.14705882352941177, 0.11764705882352941, 0.08823529411764706, 0.058823529411764705, 0.029411764705882353, 0.0], \"thrs\": [0.001596969521200416, 0.004788995950792856, 0.006003368789605737, 0.006153607212751948, 0.008503608772267777, 0.010416041246421235, 0.014207067004825692, 0.01586265286362288, 0.016021774396418324, 0.016732357026440978, 0.017024392738659137, 0.017245306185078413, 0.017329505022946265, 0.017807950245534034, 0.018737501848848287, 0.019361680754281983, 0.01945487922081403, 0.01988111577309491, 0.02007382215225429, 0.02102138377417342, 0.021419140768926682, 0.02202449694754807, 0.023121358592993906, 0.0237455661848424, 0.024396599153500304, 0.024618727456189447, 0.02562089731671143, 0.027104935535731588, 0.02737138641575479, 0.027860833069563832, 0.027999894695628948, 0.028887150125664778, 0.029092606427684554, 0.030452657129015365, 0.03057435711859205, 0.030610875835896452, 0.030668896746209273, 0.030723447921053148, 0.03255592803021581, 0.03259672555241909, 0.03455586608606823, 0.03472714758800628, 0.03636930466226558, 0.036920569812284344, 0.037918791037508205, 0.03897014505785786, 0.04243952611077008, 0.042653589657465026, 0.04372390337154078, 0.044200850303397723, 0.0450631698045281, 0.046957797060105555, 0.05234075889985809, 0.05562466136181339, 0.056576024514916175, 0.058956237847296686, 0.06376110236443379, 0.06541762599398171, 0.07355897766943474, 0.08129099975978737, 0.0957105893898263, 0.10265010543322456, 0.11947448981841738, 0.12891910637975004, 0.13911234118226282, 0.13963344364158753, 0.15190941080519713, 0.16142385260089467, 0.16210378346469898, 0.2108721725866463, 0.22042404027852877, 0.24891408734593468, 0.3691373281487817, 0.40025011442213776, 0.4051381782747207, 0.40819064457330906, 0.41533294712024404, 0.43872852215573416, 0.4695205984140163, 0.5337783426267637, 0.6551835757112725, 0.6593937985044702, 0.7320292301843071, 0.740547071848794, 0.749860145933451, 0.7663611264466593, 0.799859291413356, 0.8223944265270409, 0.8257009354038054, 0.8476174174989526, 0.8605799774396703, 0.8726287896278662, 0.8817460576902841, 0.8832320158239677, 0.8889541200570387, 0.8913889232320078, 0.8964747288505638, 0.899313583998308, 0.9051581471985224, 0.9052168848374343, 0.9087819939608307, 0.9102516598794186, 0.9121125624133999, 0.9170135372510824, 0.9200698921872442, 0.9344209898724904, 0.9370286558606232, 0.9382466576080011, 0.9383962495588414, 0.9393466557073913, 0.9436799335358819]}, \"virginica\": {\"pr\": [0.36607142857142855, 0.36936936936936937, 0.37272727272727274, 0.3761467889908257, 0.37962962962962965, 0.38317757009345793, 0.3867924528301887, 0.3904761904761905, 0.3942307692307692, 0.39805825242718446, 0.4019607843137255, 0.40594059405940597, 0.41, 0.41414141414141414, 0.41836734693877553, 0.422680412371134, 0.4270833333333333, 0.43157894736842106, 0.43617021276595747, 0.44086021505376344, 0.44565217391304346, 0.45054945054945056, 0.45555555555555555, 0.4606741573033708, 0.4659090909090909, 0.47126436781609193, 0.47674418604651164, 0.4823529411764706, 0.4880952380952381, 0.4939759036144578, 0.5, 0.5061728395061729, 0.5125, 0.5189873417721519, 0.5256410256410257, 0.5324675324675324, 0.5394736842105263, 0.5466666666666666, 0.5540540540540541, 0.5616438356164384, 0.5694444444444444, 0.5774647887323944, 0.5857142857142857, 0.5942028985507246, 0.6029411764705882, 0.6119402985074627, 0.6212121212121212, 0.6307692307692307, 0.640625, 0.6507936507936508, 0.6612903225806451, 0.6721311475409836, 0.6833333333333333, 0.6949152542372882, 0.7068965517241379, 0.7192982456140351, 0.7321428571428571, 0.7454545454545455, 0.7592592592592593, 0.7735849056603774, 0.7884615384615384, 0.803921568627451, 0.82, 0.8367346938775511, 0.8541666666666666, 0.8723404255319149, 0.8913043478260869, 0.9111111111111111, 0.9318181818181818, 0.9534883720930233, 0.9523809523809523, 0.975609756097561, 0.975, 0.9743589743589743, 1.0, 1.0, 1.0, 1.0, 1.0, 1.0, 1.0, 1.0, 1.0, 1.0, 1.0, 1.0, 1.0, 1.0, 1.0, 1.0, 1.0, 1.0, 1.0, 1.0, 1.0, 1.0, 1.0, 1.0, 1.0, 1.0, 1.0, 1.0, 1.0, 1.0, 1.0, 1.0, 1.0, 1.0, 1.0, 1.0, 1.0, 1.0], \"rcl\": [1.0, 1.0, 1.0, 1.0, 1.0, 1.0, 1.0, 1.0, 1.0, 1.0, 1.0, 1.0, 1.0, 1.0, 1.0, 1.0, 1.0, 1.0, 1.0, 1.0, 1.0, 1.0, 1.0, 1.0, 1.0, 1.0, 1.0, 1.0, 1.0, 1.0, 1.0, 1.0, 1.0, 1.0, 1.0, 1.0, 1.0, 1.0, 1.0, 1.0, 1.0, 1.0, 1.0, 1.0, 1.0, 1.0, 1.0, 1.0, 1.0, 1.0, 1.0, 1.0, 1.0, 1.0, 1.0, 1.0, 1.0, 1.0, 1.0, 1.0, 1.0, 1.0, 1.0, 1.0, 1.0, 1.0, 1.0, 1.0, 1.0, 1.0, 0.975609756097561, 0.975609756097561, 0.9512195121951219, 0.926829268292683, 0.926829268292683, 0.9024390243902439, 0.8780487804878049, 0.8536585365853658, 0.8292682926829268, 0.8048780487804879, 0.7560975609756098, 0.7317073170731707, 0.7073170731707317, 0.6829268292682927, 0.6585365853658537, 0.6341463414634146, 0.6097560975609756, 0.5853658536585366, 0.5609756097560976, 0.5365853658536586, 0.5121951219512195, 0.4878048780487805, 0.4634146341463415, 0.43902439024390244, 0.4146341463414634, 0.3902439024390244, 0.36585365853658536, 0.34146341463414637, 0.3170731707317073, 0.2926829268292683, 0.2682926829268293, 0.24390243902439024, 0.21951219512195122, 0.1951219512195122, 0.17073170731707318, 0.14634146341463414, 0.12195121951219512, 0.0975609756097561, 0.07317073170731707, 0.04878048780487805, 0.024390243902439025, 0.0], \"thrs\": [2.10897494497771e-08, 2.527311494422019e-08, 5.0223562982750257e-08, 5.0291638258789075e-08, 6.2379179809136e-08, 6.819844684438642e-08, 7.459371373083385e-08, 7.617658827806667e-08, 8.61989970875275e-08, 8.995329165284307e-08, 9.003976572475565e-08, 1.0631825081338776e-07, 1.1511355026816684e-07, 1.1660795747184317e-07, 1.1752287032099852e-07, 1.1753808001599675e-07, 1.1772106329471892e-07, 1.2094028111053042e-07, 1.2538942574628057e-07, 1.2634582714608904e-07, 1.5671613569016562e-07, 1.6731154804693064e-07, 1.686136113396844e-07, 1.821097624476747e-07, 1.8956757405464692e-07, 2.1863621699818837e-07, 2.3800844862502887e-07, 2.487082707262459e-07, 3.1062777169733235e-07, 3.1562230565161674e-07, 3.1765843395070616e-07, 3.741408836020731e-07, 4.117987713570921e-07, 4.5162425838659384e-07, 4.7260183319394144e-07, 6.702539596473294e-07, 1.1138701680577416e-06, 0.00267956712751473, 0.006269245918322714, 0.007017817389848588, 0.012612709841096697, 0.014857785335787077, 0.01839241326289236, 0.024945457850641777, 0.030183821151975064, 0.03214066381649267, 0.03480548829623024, 0.04338550626809997, 0.06641725255222151, 0.07000285351224317, 0.07034297571294902, 0.07138738412819227, 0.07151003227612779, 0.0788979430868563, 0.09018103443166678, 0.1001856764160359, 0.10204189815673577, 0.11039408542113921, 0.12165230476244801, 0.12353008624195844, 0.14870703346081135, 0.1748824145300517, 0.19125673257986914, 0.22784394170663066, 0.24766399981606566, 0.25672727346798896, 0.33924289774935934, 0.3403774390142587, 0.4652486237647164, 0.523473861090982, 0.5605241768545035, 0.5839667008666131, 0.5898201813634754, 0.5921338012019971, 0.5991951827621285, 0.6300836597665638, 0.7507570815648786, 0.7789497612875116, 0.7887216810277509, 0.837547560327415, 0.838376053116268, 0.8477479104947979, 0.860214938546942, 0.8607759315210036, 0.8710548084619266, 0.8804424252075853, 0.8972873628278064, 0.9041989112187342, 0.918659771960251, 0.9264054947392836, 0.9344988926561948, 0.9443657511862954, 0.9476509779254159, 0.9529685694317972, 0.9557774601871676, 0.9573271158660114, 0.9674419519811974, 0.9693843289513344, 0.9694151527187388, 0.9726164795508457, 0.9768575932718851, 0.977968226683562, 0.9801175664877027, 0.9826628836687494, 0.9832635094269708, 0.9839773389394425, 0.9914949742767278, 0.9938462552249379, 0.9939965503624595, 0.9952108117668642, 0.9984030201662233]}}, \"pr_table\": {\"setosa\": [[5.4, 6, 0.98, 6, 0, 100.0, 16.2], [10.7, 12, 0.98, 12, 0, 100.0, 32.4], [16.1, 18, 0.97, 18, 0, 100.0, 48.6], [21.4, 24, 0.97, 24, 0, 100.0, 64.9], [26.8, 30, 0.96, 30, 0, 100.0, 81.1], [32.1, 36, 0.94, 36, 0, 100.0, 97.3], [37.5, 42, 0.05, 37, 5, 88.1, 100.0], [42.9, 48, 0.02, 37, 11, 77.1, 100.0], [48.2, 54, 0.02, 37, 17, 68.5, 100.0], [53.6, 60, 0.01, 37, 23, 61.7, 100.0], [58.9, 66, 0.0, 37, 29, 56.1, 100.0], [64.3, 72, 0.0, 37, 35, 51.4, 100.0], [69.6, 78, 0.0, 37, 41, 47.4, 100.0], [75.0, 84, 0.0, 37, 47, 44.0, 100.0], [80.4, 90, 0.0, 37, 53, 41.1, 100.0], [85.7, 96, 0.0, 37, 59, 38.5, 100.0], [91.1, 102, 0.0, 37, 65, 36.3, 100.0], [96.4, 108, 0.0, 37, 71, 34.3, 100.0], [100.0, 112, 0.0, 37, 75, 33.0, 100.0]], \"versicolor\": [[5.4, 6, 0.92, 6, 0, 100.0, 17.6], [10.7, 12, 0.91, 12, 0, 100.0, 35.3], [16.1, 18, 0.88, 18, 0, 100.0, 52.9], [21.4, 24, 0.8, 24, 0, 100.0, 70.6], [26.8, 30, 0.66, 30, 0, 100.0, 88.2], [32.1, 36, 0.41, 33, 3, 91.7, 97.1], [37.5, 42, 0.16, 34, 8, 81.0, 100.0], [42.9, 48, 0.13, 34, 14, 70.8, 100.0], [48.2, 54, 0.07, 34, 20, 63.0, 100.0], [53.6, 60, 0.05, 34, 26, 56.7, 100.0], [58.9, 66, 0.04, 34, 32, 51.5, 100.0], [64.3, 72, 0.03, 34, 38, 47.2, 100.0], [69.6, 78, 0.03, 34, 44, 43.6, 100.0], [75.0, 84, 0.03, 34, 50, 40.5, 100.0], [80.4, 90, 0.02, 34, 56, 37.8, 100.0], [85.7, 96, 0.02, 34, 62, 35.4, 100.0], [91.1, 102, 0.02, 34, 68, 33.3, 100.0], [96.4, 108, 0.01, 34, 74, 31.5, 100.0], [100.0, 112, 0.0, 34, 78, 30.4, 100.0]], \"virginica\": [[5.4, 6, 0.98, 6, 0, 100.0, 14.6], [10.7, 12, 0.97, 12, 0, 100.0, 29.3], [16.1, 18, 0.95, 18, 0, 100.0, 43.9], [21.4, 24, 0.9, 24, 0, 100.0, 58.5], [26.8, 30, 0.84, 30, 0, 100.0, 73.2], [32.1, 36, 0.63, 36, 0, 100.0, 87.8], [37.5, 42, 0.52, 40, 2, 95.2, 97.6], [42.9, 48, 0.23, 41, 7, 85.4, 100.0], [48.2, 54, 0.11, 41, 13, 75.9, 100.0], [53.6, 60, 0.07, 41, 19, 68.3, 100.0], [58.9, 66, 0.03, 41, 25, 62.1, 100.0], [64.3, 72, 0.01, 41, 31, 56.9, 100.0], [69.6, 78, 0.0, 41, 37, 52.6, 100.0], [75.0, 84, 0.0, 41, 43, 48.8, 100.0], [80.4, 90, 0.0, 41, 49, 45.6, 100.0], [85.7, 96, 0.0, 41, 55, 42.7, 100.0], [91.1, 102, 0.0, 41, 61, 40.2, 100.0], [96.4, 108, 0.0, 41, 67, 38.0, 100.0], [100.0, 112, 0.0, 41, 71, 36.6, 100.0]]}, \"roc_auc\": 0.9990392020420109, \"roc_curve\": {\"setosa\": {\"fpr\": [0.0, 0.0, 0.0, 0.5466666666666666, 0.5733333333333334, 1.0], \"tpr\": [0.0, 0.02702702702702703, 1.0, 1.0, 1.0, 1.0], \"thrs\": [1.9895839334804641, 0.989583933480464, 0.936238425033733, 0.00040614638560285013, 0.00034865620788606554, 1.0312576341493808e-08]}, \"versicolor\": {\"fpr\": [0.0, 0.0, 0.0, 0.01282051282051282, 0.01282051282051282, 0.038461538461538464, 0.038461538461538464, 0.10256410256410256, 0.1282051282051282, 1.0], \"tpr\": [0.0, 0.029411764705882353, 0.9411764705882353, 0.9411764705882353, 0.9705882352941176, 0.9705882352941176, 1.0, 1.0, 1.0, 1.0], \"thrs\": [1.9436799335358819, 0.9436799335358819, 0.5337783426267637, 0.4695205984140163, 0.43872852215573416, 0.40819064457330906, 0.4051381782747207, 0.2108721725866463, 0.16210378346469898, 0.001596969521200416]}, \"virginica\": {\"fpr\": [0.0, 0.0, 0.0, 0.0, 0.0, 0.014084507042253521, 0.014084507042253521, 0.028169014084507043, 0.028169014084507043, 1.0], \"tpr\": [0.0, 0.024390243902439025, 0.7560975609756098, 0.8048780487804879, 0.926829268292683, 0.926829268292683, 0.975609756097561, 0.975609756097561, 1.0, 1.0], \"thrs\": [1.9984030201662233, 0.9984030201662233, 0.838376053116268, 0.837547560327415, 0.5991951827621285, 0.5921338012019971, 0.5839667008666131, 0.5605241768545035, 0.523473861090982, 2.10897494497771e-08]}}, \"log_loss\": 0.12459160276342862, \"metrics_matrix\": {\"setosa\": {\"precision\": 1.0, \"recall\": 1.0, \"f1-score\": 1.0, \"support\": 37}, \"versicolor\": {\"precision\": 1.0, \"recall\": 0.9411764705882353, \"f1-score\": 0.9696969696969697, \"support\": 34}, \"virginica\": {\"precision\": 0.9534883720930233, \"recall\": 1.0, \"f1-score\": 0.9761904761904763, \"support\": 41}, \"accuracy\": 0.9821428571428571, \"macro avg\": {\"precision\": 0.9844961240310077, \"recall\": 0.9803921568627452, \"f1-score\": 0.981962481962482, \"support\": 112}, \"weighted avg\": {\"precision\": 0.9829734219269104, \"recall\": 0.9821428571428571, \"f1-score\": 0.982084879406308, \"support\": 112}}, \"confusion_matrix\": {\"labels\": [\"setosa\", \"versicolor\", \"virginica\"], \"values\": [[37, 0, 0], [0, 32, 2], [0, 0, 41]]}, \"roc_aucs\": [1.0, 0.9984917043740573, 0.9986259017519753]}, \"current\": {\"accuracy\": 0.9736842105263158, \"precision\": 0.9666666666666667, \"recall\": 0.9791666666666666, \"f1\": 0.9717034521788342, \"pr_curve\": {\"setosa\": {\"pr\": [0.34210526315789475, 0.35135135135135137, 0.3611111111111111, 0.37142857142857144, 0.38235294117647056, 0.3939393939393939, 0.40625, 0.41935483870967744, 0.43333333333333335, 0.4482758620689655, 0.4642857142857143, 0.48148148148148145, 0.5, 0.52, 0.5416666666666666, 0.5652173913043478, 0.5909090909090909, 0.6190476190476191, 0.65, 0.6842105263157895, 0.7222222222222222, 0.7647058823529411, 0.8125, 0.8666666666666667, 0.9285714285714286, 1.0, 1.0, 1.0, 1.0, 1.0, 1.0, 1.0, 1.0, 1.0, 1.0, 1.0, 1.0, 1.0, 1.0], \"rcl\": [1.0, 1.0, 1.0, 1.0, 1.0, 1.0, 1.0, 1.0, 1.0, 1.0, 1.0, 1.0, 1.0, 1.0, 1.0, 1.0, 1.0, 1.0, 1.0, 1.0, 1.0, 1.0, 1.0, 1.0, 1.0, 1.0, 0.9230769230769231, 0.8461538461538461, 0.7692307692307693, 0.6923076923076923, 0.6153846153846154, 0.5384615384615384, 0.46153846153846156, 0.38461538461538464, 0.3076923076923077, 0.23076923076923078, 0.15384615384615385, 0.07692307692307693, 0.0], \"thrs\": [1.251816010872302e-06, 2.0167037874828206e-06, 1.4883705478114769e-05, 9.224399521952186e-05, 9.907369047777553e-05, 0.00011792496396705171, 0.000602627718577011, 0.0008344996609865305, 0.001285265410422353, 0.001369077747916792, 0.0015091571876159498, 0.0028424149311151166, 0.0030568190586005607, 0.0038769994275874146, 0.004082204440907386, 0.006729014063534849, 0.006986280732050886, 0.010325585549088198, 0.010712256686163787, 0.011429170366837159, 0.011987017477584528, 0.012628851176536258, 0.02052878184308042, 0.048130473918086794, 0.14088455540465836, 0.9441287607620101, 0.9446292433849595, 0.950240557095067, 0.9614919248188792, 0.9675820209666407, 0.9680584034863796, 0.9702347339955439, 0.9754984224372414, 0.9818994702703294, 0.9828155642916006, 0.9828721178205816, 0.9843976833654853, 0.9942033603201061]}, \"versicolor\": {\"pr\": [0.42105263157894735, 0.43243243243243246, 0.4444444444444444, 0.45714285714285713, 0.47058823529411764, 0.48484848484848486, 0.5, 0.5161290322580645, 0.5333333333333333, 0.5517241379310345, 0.5714285714285714, 0.5925925925925926, 0.6153846153846154, 0.64, 0.6666666666666666, 0.6956521739130435, 0.7272727272727273, 0.7619047619047619, 0.8, 0.8421052631578947, 0.8888888888888888, 0.8823529411764706, 0.9375, 1.0, 1.0, 1.0, 1.0, 1.0, 1.0, 1.0, 1.0, 1.0, 1.0, 1.0, 1.0, 1.0, 1.0, 1.0, 1.0], \"rcl\": [1.0, 1.0, 1.0, 1.0, 1.0, 1.0, 1.0, 1.0, 1.0, 1.0, 1.0, 1.0, 1.0, 1.0, 1.0, 1.0, 1.0, 1.0, 1.0, 1.0, 1.0, 0.9375, 0.9375, 0.9375, 0.875, 0.8125, 0.75, 0.6875, 0.625, 0.5625, 0.5, 0.4375, 0.375, 0.3125, 0.25, 0.1875, 0.125, 0.0625, 0.0], \"thrs\": [0.0057966300262245534, 0.005944535414693793, 0.015602278068798046, 0.017127822486768068, 0.017184379158423635, 0.01810045928079395, 0.023153163883662876, 0.02450141003209071, 0.029765103392486957, 0.031941446356195335, 0.03241776478369755, 0.03382751858066968, 0.0385076256377992, 0.04975831042150017, 0.055370365464101845, 0.05587019079232937, 0.05614803191934689, 0.11564469527648312, 0.15947636105179686, 0.19326003948387924, 0.3110335460651326, 0.35778040153640484, 0.4263723298641282, 0.6843586609817279, 0.7102771106232151, 0.7111466359460319, 0.7385245755942244, 0.7470897350446762, 0.7564652626409114, 0.760910956510698, 0.7936029228836926, 0.8099889024819878, 0.845111181167423, 0.8528744900726878, 0.8807392541738068, 0.9009948228202127, 0.9358911507293401, 0.9604550080039087]}, \"virginica\": {\"pr\": [0.23684210526315788, 0.24324324324324326, 0.25, 0.2571428571428571, 0.2647058823529412, 0.2727272727272727, 0.28125, 0.2903225806451613, 0.3, 0.3103448275862069, 0.32142857142857145, 0.3333333333333333, 0.34615384615384615, 0.36, 0.375, 0.391304347826087, 0.4090909090909091, 0.42857142857142855, 0.45, 0.47368421052631576, 0.5, 0.5294117647058824, 0.5625, 0.6, 0.6428571428571429, 0.6923076923076923, 0.75, 0.8181818181818182, 0.9, 0.8888888888888888, 0.875, 1.0, 1.0, 1.0, 1.0, 1.0, 1.0, 1.0, 1.0], \"rcl\": [1.0, 1.0, 1.0, 1.0, 1.0, 1.0, 1.0, 1.0, 1.0, 1.0, 1.0, 1.0, 1.0, 1.0, 1.0, 1.0, 1.0, 1.0, 1.0, 1.0, 1.0, 1.0, 1.0, 1.0, 1.0, 1.0, 1.0, 1.0, 1.0, 0.8888888888888888, 0.7777777777777778, 0.7777777777777778, 0.6666666666666666, 0.5555555555555556, 0.4444444444444444, 0.3333333333333333, 0.2222222222222222, 0.1111111111111111, 0.0], \"thrs\": [9.653669255628211e-09, 3.856571663648797e-08, 5.654997568861809e-08, 5.969265029161422e-08, 7.044887672410673e-08, 1.5015742505083888e-07, 1.6261196900869677e-07, 1.6753066766111737e-07, 2.142496615794667e-07, 3.911509385733219e-07, 4.49543321466608e-07, 1.0484456604545632e-06, 1.1324834327510213e-06, 0.006240954522653786, 0.026916140819555012, 0.0435800674275795, 0.07113027190810635, 0.08829292049362364, 0.14345964846573983, 0.1830248167859613, 0.20231487267540002, 0.23603222443070163, 0.23680572329555372, 0.25006785002420867, 0.2599662672181598, 0.27852777850487986, 0.28584588994919746, 0.30365432154068756, 0.572258592387955, 0.6409343330531727, 0.6883638262162903, 0.8059054608551341, 0.8404313949529837, 0.8842562310330392, 0.9437340431166861, 0.9661575977138522, 0.9768455843003263, 0.9940534478815188]}}, \"pr_table\": {\"setosa\": [[5.3, 2, 0.98, 2, 0, 100.0, 15.4], [10.5, 4, 0.98, 4, 0, 100.0, 30.8], [15.8, 6, 0.97, 6, 0, 100.0, 46.2], [21.1, 8, 0.97, 8, 0, 100.0, 61.5], [26.3, 10, 0.95, 10, 0, 100.0, 76.9], [31.6, 12, 0.94, 12, 0, 100.0, 92.3], [36.8, 14, 0.05, 13, 1, 92.9, 100.0], [42.1, 16, 0.01, 13, 3, 81.2, 100.0], [47.4, 18, 0.01, 13, 5, 72.2, 100.0], [52.6, 20, 0.01, 13, 7, 65.0, 100.0], [57.9, 22, 0.01, 13, 9, 59.1, 100.0], [63.2, 24, 0.0, 13, 11, 54.2, 100.0], [68.4, 26, 0.0, 13, 13, 50.0, 100.0], [73.7, 28, 0.0, 13, 15, 46.4, 100.0], [78.9, 30, 0.0, 13, 17, 43.3, 100.0], [84.2, 32, 0.0, 13, 19, 40.6, 100.0], [89.5, 34, 0.0, 13, 21, 38.2, 100.0], [94.7, 36, 0.0, 13, 23, 36.1, 100.0], [100.0, 38, 0.0, 13, 25, 34.2, 100.0]], \"versicolor\": [[5.3, 2, 0.9, 2, 0, 100.0, 12.5], [10.5, 4, 0.85, 4, 0, 100.0, 25.0], [15.8, 6, 0.81, 6, 0, 100.0, 37.5], [21.1, 8, 0.76, 8, 0, 100.0, 50.0], [26.3, 10, 0.75, 10, 0, 100.0, 62.5], [31.6, 12, 0.71, 12, 0, 100.0, 75.0], [36.8, 14, 0.68, 14, 0, 100.0, 87.5], [42.1, 16, 0.36, 15, 1, 93.8, 93.8], [47.4, 18, 0.19, 16, 2, 88.9, 100.0], [52.6, 20, 0.12, 16, 4, 80.0, 100.0], [57.9, 22, 0.06, 16, 6, 72.7, 100.0], [63.2, 24, 0.05, 16, 8, 66.7, 100.0], [68.4, 26, 0.03, 16, 10, 61.5, 100.0], [73.7, 28, 0.03, 16, 12, 57.1, 100.0], [78.9, 30, 0.02, 16, 14, 53.3, 100.0], [84.2, 32, 0.02, 16, 16, 50.0, 100.0], [89.5, 34, 0.02, 16, 18, 47.1, 100.0], [94.7, 36, 0.01, 16, 20, 44.4, 100.0], [100.0, 38, 0.01, 16, 22, 42.1, 100.0]], \"virginica\": [[5.3, 2, 0.97, 2, 0, 100.0, 22.2], [10.5, 4, 0.88, 4, 0, 100.0, 44.4], [15.8, 6, 0.81, 6, 0, 100.0, 66.7], [21.1, 8, 0.64, 7, 1, 87.5, 77.8], [26.3, 10, 0.3, 9, 1, 90.0, 100.0], [31.6, 12, 0.28, 9, 3, 75.0, 100.0], [36.8, 14, 0.25, 9, 5, 64.3, 100.0], [42.1, 16, 0.24, 9, 7, 56.2, 100.0], [47.4, 18, 0.18, 9, 9, 50.0, 100.0], [52.6, 20, 0.09, 9, 11, 45.0, 100.0], [57.9, 22, 0.04, 9, 13, 40.9, 100.0], [63.2, 24, 0.01, 9, 15, 37.5, 100.0], [68.4, 26, 0.0, 9, 17, 34.6, 100.0], [73.7, 28, 0.0, 9, 19, 32.1, 100.0], [78.9, 30, 0.0, 9, 21, 30.0, 100.0], [84.2, 32, 0.0, 9, 23, 28.1, 100.0], [89.5, 34, 0.0, 9, 25, 26.5, 100.0], [94.7, 36, 0.0, 9, 27, 25.0, 100.0], [100.0, 38, 0.0, 9, 29, 23.7, 100.0]]}, \"roc_auc\": 0.9955517821897132, \"roc_curve\": {\"setosa\": {\"fpr\": [0.0, 0.0, 0.0, 1.0], \"tpr\": [0.0, 0.07692307692307693, 1.0, 1.0], \"thrs\": [1.9942033603201061, 0.9942033603201061, 0.9441287607620101, 1.251816010872302e-06]}, \"versicolor\": {\"fpr\": [0.0, 0.0, 0.0, 0.09090909090909091, 0.09090909090909091, 1.0], \"tpr\": [0.0, 0.0625, 0.9375, 0.9375, 1.0, 1.0], \"thrs\": [1.9604550080039087, 0.9604550080039087, 0.6843586609817279, 0.35778040153640484, 0.3110335460651326, 0.0057966300262245534]}, \"virginica\": {\"fpr\": [0.0, 0.0, 0.0, 0.034482758620689655, 0.034482758620689655, 1.0], \"tpr\": [0.0, 0.1111111111111111, 0.7777777777777778, 0.7777777777777778, 1.0, 1.0], \"thrs\": [1.9940534478815188, 0.9940534478815188, 0.8059054608551341, 0.6883638262162903, 0.572258592387955, 9.653669255628211e-09]}}, \"log_loss\": 0.17161276518840554, \"metrics_matrix\": {\"setosa\": {\"precision\": 1.0, \"recall\": 1.0, \"f1-score\": 1.0, \"support\": 13}, \"versicolor\": {\"precision\": 1.0, \"recall\": 0.9375, \"f1-score\": 0.967741935483871, \"support\": 16}, \"virginica\": {\"precision\": 0.9, \"recall\": 1.0, \"f1-score\": 0.9473684210526316, \"support\": 9}, \"accuracy\": 0.9736842105263158, \"macro avg\": {\"precision\": 0.9666666666666667, \"recall\": 0.9791666666666666, \"f1-score\": 0.9717034521788342, \"support\": 38}, \"weighted avg\": {\"precision\": 0.9763157894736842, \"recall\": 0.9736842105263158, \"f1-score\": 0.9739522830846216, \"support\": 38}}, \"confusion_matrix\": {\"labels\": [\"setosa\", \"versicolor\", \"virginica\"], \"values\": [[13, 0, 0], [0, 15, 1], [0, 0, 9]]}, \"roc_aucs\": [1.0, 0.9943181818181818, 0.9923371647509579]}}}}, \"timestamp\": \"2022-07-21 16:10:25.461035\"}'"
      ]
     },
     "execution_count": 16,
     "metadata": {},
     "output_type": "execute_result"
    },
    {
     "ename": "",
     "evalue": "",
     "output_type": "error",
     "traceback": [
      "\u001b[1;31mThe Kernel crashed while executing code in the the current cell or a previous cell. Please review the code in the cell(s) to identify a possible cause of the failure. Click <a href='https://aka.ms/vscodeJupyterKernelCrash'>here</a> for more info. View Jupyter <a href='command:jupyter.viewOutput'>log</a> for further details."
     ]
    }
   ],
   "source": [
    "iris_prob_classification_profile.json()"
   ]
  },
  {
   "cell_type": "code",
   "execution_count": null,
   "metadata": {},
   "outputs": [],
   "source": []
  }
 ],
 "metadata": {
  "kernelspec": {
   "display_name": "Python 3.9.13 64-bit (windows store)",
   "language": "python",
   "name": "python3"
  },
  "language_info": {
   "codemirror_mode": {
    "name": "ipython",
    "version": 3
   },
   "file_extension": ".py",
   "mimetype": "text/x-python",
   "name": "python",
   "nbconvert_exporter": "python",
   "pygments_lexer": "ipython3",
   "version": "3.9.13"
  },
  "orig_nbformat": 4,
  "vscode": {
   "interpreter": {
    "hash": "cbf37e74f99352f8aa68db4b775af592ea0576dcd1f826ae1a468fff408445af"
   }
  }
 },
 "nbformat": 4,
 "nbformat_minor": 2
}
